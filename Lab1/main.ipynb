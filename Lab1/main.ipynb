{
 "cells": [
  {
   "cell_type": "markdown",
   "source": [
    "\r\n",
    "# **Лабораторна робота #1**\r\n",
    "# **МІТ-31**\r\n",
    "# **Фітя Владислава**"
   ],
   "metadata": {}
  },
  {
   "cell_type": "markdown",
   "source": [
    "### Ініціалізація бібліотек"
   ],
   "metadata": {}
  },
  {
   "cell_type": "code",
   "execution_count": 132,
   "source": [
    "import random as rnd\r\n",
    "import numpy as np\r\n",
    "import pandas as pd\r\n",
    "import matplotlib.pyplot as mat"
   ],
   "outputs": [],
   "metadata": {}
  },
  {
   "cell_type": "code",
   "execution_count": 219,
   "source": [
    "def butify_print(message, data):\r\n",
    "    print(\"===========================================\")\r\n",
    "    print(message)\r\n",
    "    print()\r\n",
    "    print(data)\r\n",
    "    print(\"===========================================\")\r\n",
    "\r\n",
    "def yhat(x, y):\r\n",
    "    k, b = np.polyfit(x, y, 1)\r\n",
    "    y_pred = k*x + b\r\n",
    "    return y_pred"
   ],
   "outputs": [],
   "metadata": {}
  },
  {
   "cell_type": "markdown",
   "source": [
    "\r\n",
    "## **3авдання 1**\r\n",
    "\r\n",
    "NumPy (створити набір даних (розмір за власним рішенням), провести CRUD операції над даними (скаляр, вектор, матриця)). Використати arange, random.\r\n"
   ],
   "metadata": {}
  },
  {
   "cell_type": "markdown",
   "source": [
    "### Скаляр"
   ],
   "metadata": {}
  },
  {
   "cell_type": "code",
   "execution_count": 134,
   "source": [
    "array = np.arange(0, 19, 1)\r\n",
    "butify_print(\"Create and Read\", array)\r\n",
    "array = np.insert(array, 19, 19)\r\n",
    "butify_print(\"Update\", array)\r\n",
    "array = np.delete(array, 0)\r\n",
    "butify_print(\"Delete\", array)\r\n",
    "secondArray = np.random.randint(20, size=(array.size))\r\n",
    "butify_print(\"Using random\", secondArray)\r\n"
   ],
   "outputs": [
    {
     "output_type": "stream",
     "name": "stdout",
     "text": [
      "===========================================\n",
      "Create and Read\n",
      "\n",
      "[ 0  1  2  3  4  5  6  7  8  9 10 11 12 13 14 15 16 17 18]\n",
      "===========================================\n",
      "===========================================\n",
      "Update\n",
      "\n",
      "[ 0  1  2  3  4  5  6  7  8  9 10 11 12 13 14 15 16 17 18 19]\n",
      "===========================================\n",
      "===========================================\n",
      "Delete\n",
      "\n",
      "[ 1  2  3  4  5  6  7  8  9 10 11 12 13 14 15 16 17 18 19]\n",
      "===========================================\n",
      "===========================================\n",
      "Using random\n",
      "\n",
      "[ 6  1  2  3 13  3  4 10 18  2 11  3  4 10  7 11 13 18  7]\n",
      "===========================================\n"
     ]
    }
   ],
   "metadata": {}
  },
  {
   "cell_type": "markdown",
   "source": [
    "### Матриця"
   ],
   "metadata": {}
  },
  {
   "cell_type": "code",
   "execution_count": 135,
   "source": [
    "matrix = np.arange(16).reshape(4, 4)\r\n",
    "butify_print(\"Create and Read\", matrix)\r\n",
    "\r\n",
    "newrow = [19,19,19,19]\r\n",
    "row_n = matrix.shape[0] ##last row\r\n",
    "matrix = np.insert(matrix,row_n,[newrow],axis= 0)\r\n",
    "matrix = np.arange(16).reshape(4, 4)\r\n",
    "butify_print(\"Update\", matrix)\r\n",
    "\r\n",
    "matrix = np.delete(matrix, 0, 0)\r\n",
    "butify_print(\"Delete\", matrix)"
   ],
   "outputs": [
    {
     "output_type": "stream",
     "name": "stdout",
     "text": [
      "===========================================\n",
      "Create and Read\n",
      "\n",
      "[[ 0  1  2  3]\n",
      " [ 4  5  6  7]\n",
      " [ 8  9 10 11]\n",
      " [12 13 14 15]]\n",
      "===========================================\n",
      "===========================================\n",
      "Update\n",
      "\n",
      "[[ 0  1  2  3]\n",
      " [ 4  5  6  7]\n",
      " [ 8  9 10 11]\n",
      " [12 13 14 15]]\n",
      "===========================================\n",
      "===========================================\n",
      "Delete\n",
      "\n",
      "[[ 4  5  6  7]\n",
      " [ 8  9 10 11]\n",
      " [12 13 14 15]]\n",
      "===========================================\n"
     ]
    }
   ],
   "metadata": {}
  },
  {
   "cell_type": "markdown",
   "source": [
    "### Вектори"
   ],
   "metadata": {}
  },
  {
   "cell_type": "code",
   "execution_count": 136,
   "source": [
    "firstArray = np.arange(0,15,3)\r\n",
    "secondArray = np.random.randint(19, size=5)\r\n",
    "\r\n",
    "thirdArray = np.add(firstArray,secondArray)\r\n",
    "butify_print(\"Add\", f\"{firstArray}\\n       + \\n{secondArray}\\n       = \\n{thirdArray}\")\r\n",
    "\r\n",
    "fourthArray = np.subtract(thirdArray,secondArray)\r\n",
    "butify_print(\"Subtract\", f\"{thirdArray}\\n       - \\n{secondArray}\\n       = \\n{fourthArray}\")"
   ],
   "outputs": [
    {
     "output_type": "stream",
     "name": "stdout",
     "text": [
      "===========================================\n",
      "Add\n",
      "\n",
      "[ 0  3  6  9 12]\n",
      "       + \n",
      "[11 18 10 16 11]\n",
      "       = \n",
      "[11 21 16 25 23]\n",
      "===========================================\n",
      "===========================================\n",
      "Subtract\n",
      "\n",
      "[11 21 16 25 23]\n",
      "       - \n",
      "[11 18 10 16 11]\n",
      "       = \n",
      "[ 0  3  6  9 12]\n",
      "===========================================\n"
     ]
    }
   ],
   "metadata": {}
  },
  {
   "cell_type": "markdown",
   "source": [
    "\r\n",
    "## **3авдання 2**\r\n",
    "\r\n",
    "Pandas (створити dataframe різними способами, провести маніпуляції з даними (head, describe, iloc, loc ...))"
   ],
   "metadata": {}
  },
  {
   "cell_type": "code",
   "execution_count": 137,
   "source": [
    "data = pd.read_csv(\"FyntraCustomerData.csv\")\r\n",
    "data.head()"
   ],
   "outputs": [
    {
     "output_type": "execute_result",
     "data": {
      "text/html": [
       "<div>\n",
       "<style scoped>\n",
       "    .dataframe tbody tr th:only-of-type {\n",
       "        vertical-align: middle;\n",
       "    }\n",
       "\n",
       "    .dataframe tbody tr th {\n",
       "        vertical-align: top;\n",
       "    }\n",
       "\n",
       "    .dataframe thead th {\n",
       "        text-align: right;\n",
       "    }\n",
       "</style>\n",
       "<table border=\"1\" class=\"dataframe\">\n",
       "  <thead>\n",
       "    <tr style=\"text-align: right;\">\n",
       "      <th></th>\n",
       "      <th>Email</th>\n",
       "      <th>Address</th>\n",
       "      <th>Avatar</th>\n",
       "      <th>Avg_Session_Length</th>\n",
       "      <th>Time_on_App</th>\n",
       "      <th>Time_on_Website</th>\n",
       "      <th>Length_of_Membership</th>\n",
       "      <th>Yearly_Amount_Spent</th>\n",
       "    </tr>\n",
       "  </thead>\n",
       "  <tbody>\n",
       "    <tr>\n",
       "      <th>0</th>\n",
       "      <td>mstephenson@fernandez.com</td>\n",
       "      <td>835 Frank Tunnel\\nWrightmouth, MI 82180-9605</td>\n",
       "      <td>Violet</td>\n",
       "      <td>34.497268</td>\n",
       "      <td>12.655651</td>\n",
       "      <td>39.577668</td>\n",
       "      <td>4.082621</td>\n",
       "      <td>587.951054</td>\n",
       "    </tr>\n",
       "    <tr>\n",
       "      <th>1</th>\n",
       "      <td>hduke@hotmail.com</td>\n",
       "      <td>4547 Archer Common\\nDiazchester, CA 06566-8576</td>\n",
       "      <td>DarkGreen</td>\n",
       "      <td>31.926272</td>\n",
       "      <td>11.109461</td>\n",
       "      <td>37.268959</td>\n",
       "      <td>2.664034</td>\n",
       "      <td>392.204933</td>\n",
       "    </tr>\n",
       "    <tr>\n",
       "      <th>2</th>\n",
       "      <td>pallen@yahoo.com</td>\n",
       "      <td>24645 Valerie Unions Suite 582\\nCobbborough, D...</td>\n",
       "      <td>Bisque</td>\n",
       "      <td>33.000915</td>\n",
       "      <td>11.330278</td>\n",
       "      <td>37.110597</td>\n",
       "      <td>4.104543</td>\n",
       "      <td>487.547505</td>\n",
       "    </tr>\n",
       "    <tr>\n",
       "      <th>3</th>\n",
       "      <td>riverarebecca@gmail.com</td>\n",
       "      <td>1414 David Throughway\\nPort Jason, OH 22070-1220</td>\n",
       "      <td>SaddleBrown</td>\n",
       "      <td>34.305557</td>\n",
       "      <td>13.717514</td>\n",
       "      <td>36.721283</td>\n",
       "      <td>3.120179</td>\n",
       "      <td>581.852344</td>\n",
       "    </tr>\n",
       "    <tr>\n",
       "      <th>4</th>\n",
       "      <td>mstephens@davidson-herman.com</td>\n",
       "      <td>14023 Rodriguez Passage\\nPort Jacobville, PR 3...</td>\n",
       "      <td>MediumAquaMarine</td>\n",
       "      <td>33.330673</td>\n",
       "      <td>12.795189</td>\n",
       "      <td>37.536653</td>\n",
       "      <td>4.446308</td>\n",
       "      <td>599.406092</td>\n",
       "    </tr>\n",
       "  </tbody>\n",
       "</table>\n",
       "</div>"
      ],
      "text/plain": [
       "                           Email  \\\n",
       "0      mstephenson@fernandez.com   \n",
       "1              hduke@hotmail.com   \n",
       "2               pallen@yahoo.com   \n",
       "3        riverarebecca@gmail.com   \n",
       "4  mstephens@davidson-herman.com   \n",
       "\n",
       "                                             Address            Avatar  \\\n",
       "0       835 Frank Tunnel\\nWrightmouth, MI 82180-9605            Violet   \n",
       "1     4547 Archer Common\\nDiazchester, CA 06566-8576         DarkGreen   \n",
       "2  24645 Valerie Unions Suite 582\\nCobbborough, D...            Bisque   \n",
       "3   1414 David Throughway\\nPort Jason, OH 22070-1220       SaddleBrown   \n",
       "4  14023 Rodriguez Passage\\nPort Jacobville, PR 3...  MediumAquaMarine   \n",
       "\n",
       "   Avg_Session_Length  Time_on_App  Time_on_Website  Length_of_Membership  \\\n",
       "0           34.497268    12.655651        39.577668              4.082621   \n",
       "1           31.926272    11.109461        37.268959              2.664034   \n",
       "2           33.000915    11.330278        37.110597              4.104543   \n",
       "3           34.305557    13.717514        36.721283              3.120179   \n",
       "4           33.330673    12.795189        37.536653              4.446308   \n",
       "\n",
       "   Yearly_Amount_Spent  \n",
       "0           587.951054  \n",
       "1           392.204933  \n",
       "2           487.547505  \n",
       "3           581.852344  \n",
       "4           599.406092  "
      ]
     },
     "metadata": {},
     "execution_count": 137
    }
   ],
   "metadata": {}
  },
  {
   "cell_type": "code",
   "execution_count": 138,
   "source": [
    "data.describe()"
   ],
   "outputs": [
    {
     "output_type": "execute_result",
     "data": {
      "text/html": [
       "<div>\n",
       "<style scoped>\n",
       "    .dataframe tbody tr th:only-of-type {\n",
       "        vertical-align: middle;\n",
       "    }\n",
       "\n",
       "    .dataframe tbody tr th {\n",
       "        vertical-align: top;\n",
       "    }\n",
       "\n",
       "    .dataframe thead th {\n",
       "        text-align: right;\n",
       "    }\n",
       "</style>\n",
       "<table border=\"1\" class=\"dataframe\">\n",
       "  <thead>\n",
       "    <tr style=\"text-align: right;\">\n",
       "      <th></th>\n",
       "      <th>Avg_Session_Length</th>\n",
       "      <th>Time_on_App</th>\n",
       "      <th>Time_on_Website</th>\n",
       "      <th>Length_of_Membership</th>\n",
       "      <th>Yearly_Amount_Spent</th>\n",
       "    </tr>\n",
       "  </thead>\n",
       "  <tbody>\n",
       "    <tr>\n",
       "      <th>count</th>\n",
       "      <td>500.000000</td>\n",
       "      <td>500.000000</td>\n",
       "      <td>500.000000</td>\n",
       "      <td>500.000000</td>\n",
       "      <td>500.000000</td>\n",
       "    </tr>\n",
       "    <tr>\n",
       "      <th>mean</th>\n",
       "      <td>33.053194</td>\n",
       "      <td>12.052488</td>\n",
       "      <td>37.060445</td>\n",
       "      <td>3.533462</td>\n",
       "      <td>499.314038</td>\n",
       "    </tr>\n",
       "    <tr>\n",
       "      <th>std</th>\n",
       "      <td>0.992563</td>\n",
       "      <td>0.994216</td>\n",
       "      <td>1.010489</td>\n",
       "      <td>0.999278</td>\n",
       "      <td>79.314782</td>\n",
       "    </tr>\n",
       "    <tr>\n",
       "      <th>min</th>\n",
       "      <td>29.532429</td>\n",
       "      <td>8.508152</td>\n",
       "      <td>33.913847</td>\n",
       "      <td>0.269901</td>\n",
       "      <td>256.670582</td>\n",
       "    </tr>\n",
       "    <tr>\n",
       "      <th>25%</th>\n",
       "      <td>32.341822</td>\n",
       "      <td>11.388153</td>\n",
       "      <td>36.349257</td>\n",
       "      <td>2.930450</td>\n",
       "      <td>445.038277</td>\n",
       "    </tr>\n",
       "    <tr>\n",
       "      <th>50%</th>\n",
       "      <td>33.082008</td>\n",
       "      <td>11.983231</td>\n",
       "      <td>37.069367</td>\n",
       "      <td>3.533975</td>\n",
       "      <td>498.887875</td>\n",
       "    </tr>\n",
       "    <tr>\n",
       "      <th>75%</th>\n",
       "      <td>33.711985</td>\n",
       "      <td>12.753850</td>\n",
       "      <td>37.716432</td>\n",
       "      <td>4.126502</td>\n",
       "      <td>549.313828</td>\n",
       "    </tr>\n",
       "    <tr>\n",
       "      <th>max</th>\n",
       "      <td>36.139662</td>\n",
       "      <td>15.126994</td>\n",
       "      <td>40.005182</td>\n",
       "      <td>6.922689</td>\n",
       "      <td>765.518462</td>\n",
       "    </tr>\n",
       "  </tbody>\n",
       "</table>\n",
       "</div>"
      ],
      "text/plain": [
       "       Avg_Session_Length  Time_on_App  Time_on_Website  Length_of_Membership  \\\n",
       "count          500.000000   500.000000       500.000000            500.000000   \n",
       "mean            33.053194    12.052488        37.060445              3.533462   \n",
       "std              0.992563     0.994216         1.010489              0.999278   \n",
       "min             29.532429     8.508152        33.913847              0.269901   \n",
       "25%             32.341822    11.388153        36.349257              2.930450   \n",
       "50%             33.082008    11.983231        37.069367              3.533975   \n",
       "75%             33.711985    12.753850        37.716432              4.126502   \n",
       "max             36.139662    15.126994        40.005182              6.922689   \n",
       "\n",
       "       Yearly_Amount_Spent  \n",
       "count           500.000000  \n",
       "mean            499.314038  \n",
       "std              79.314782  \n",
       "min             256.670582  \n",
       "25%             445.038277  \n",
       "50%             498.887875  \n",
       "75%             549.313828  \n",
       "max             765.518462  "
      ]
     },
     "metadata": {},
     "execution_count": 138
    }
   ],
   "metadata": {}
  },
  {
   "cell_type": "code",
   "execution_count": 139,
   "source": [
    "print(data.iloc[0])"
   ],
   "outputs": [
    {
     "output_type": "stream",
     "name": "stdout",
     "text": [
      "Email                                      mstephenson@fernandez.com\n",
      "Address                 835 Frank Tunnel\\nWrightmouth, MI 82180-9605\n",
      "Avatar                                                        Violet\n",
      "Avg_Session_Length                                         34.497268\n",
      "Time_on_App                                                12.655651\n",
      "Time_on_Website                                            39.577668\n",
      "Length_of_Membership                                        4.082621\n",
      "Yearly_Amount_Spent                                       587.951054\n",
      "Name: 0, dtype: object\n"
     ]
    }
   ],
   "metadata": {}
  },
  {
   "cell_type": "code",
   "execution_count": 140,
   "source": [
    "print(data.loc[0:19,\"Avatar\"])"
   ],
   "outputs": [
    {
     "output_type": "stream",
     "name": "stdout",
     "text": [
      "0               Violet\n",
      "1            DarkGreen\n",
      "2               Bisque\n",
      "3          SaddleBrown\n",
      "4     MediumAquaMarine\n",
      "5          FloralWhite\n",
      "6        DarkSlateBlue\n",
      "7                 Aqua\n",
      "8                 Fish\n",
      "9                Brown\n",
      "10              Tomato\n",
      "11              Tomato\n",
      "12           RoyalBlue\n",
      "13              Bisque\n",
      "14            DarkBlue\n",
      "15                Peru\n",
      "16          PowderBlue\n",
      "17           OliveDrab\n",
      "18                Cyan\n",
      "19              Mukola\n",
      "Name: Avatar, dtype: object\n"
     ]
    }
   ],
   "metadata": {}
  },
  {
   "cell_type": "markdown",
   "source": [
    "\r\n",
    "## **3авдання 3**\r\n",
    "\r\n",
    "Matplotlib (створити набір даних лінійної функції з урахуванням помилок вимірювань, побудувати графік функції та згенерованих даних, обчислити похибку з використанням метрик MAE, MSE). Записати отримані результати у csv файл (формат: X,Y, Y_hat, mAE, mSE)"
   ],
   "metadata": {}
  },
  {
   "cell_type": "code",
   "execution_count": 222,
   "source": [
    "mat.rcParams['figure.figsize'] = (10, 5)\r\n",
    "fig = mat.subplots()"
   ],
   "outputs": [
    {
     "output_type": "display_data",
     "data": {
      "image/png": "[encoded data removed]",
      "text/plain": [
       "<Figure size 720x360 with 1 Axes>"
      ]
     },
     "metadata": {
      "needs_background": "dark"
     }
    }
   ],
   "metadata": {}
  },
  {
   "cell_type": "code",
   "execution_count": 223,
   "source": [
    "%matplotlib inline\r\n",
    "mat.rcParams['figure.figsize'] = (10, 5)\r\n",
    "mat.style.use('seaborn-deep')\r\n",
    "x_data = []\r\n",
    "y_data = []\r\n",
    "for i in np.arange(0,35,0.35):\r\n",
    "    x_data.append(i)\r\n",
    "    y_data.append(i**2)\r\n",
    "X = np.linspace(0,15,500)\r\n",
    "Y = X\r\n",
    "X1 = np.linspace(0,65,9000)\r\n",
    "Y1 = X1*19\r\n",
    "fig, ax = mat.subplots()\r\n",
    "mat.plot(x_data,y_data,X,Y,X1,Y1)"
   ],
   "outputs": [
    {
     "output_type": "execute_result",
     "data": {
      "text/plain": [
       "[<matplotlib.lines.Line2D at 0x237823e2220>,\n",
       " <matplotlib.lines.Line2D at 0x237823e22e0>,\n",
       " <matplotlib.lines.Line2D at 0x237823e23a0>]"
      ]
     },
     "metadata": {},
     "execution_count": 223
    },
    {
     "output_type": "display_data",
     "data": {
      "image/png": "[encoded data removed]",
      "text/plain": [
       "<Figure size 720x360 with 1 Axes>"
      ]
     },
     "metadata": {
      "needs_background": "dark"
     }
    }
   ],
   "metadata": {}
  },
  {
   "cell_type": "code",
   "execution_count": 225,
   "source": [
    "mat.rcParams['figure.figsize'] = (10, 5)\r\n",
    "mat.scatter(x_data,y_data)"
   ],
   "outputs": [
    {
     "output_type": "execute_result",
     "data": {
      "text/plain": [
       "<matplotlib.collections.PathCollection at 0x237824ab910>"
      ]
     },
     "metadata": {},
     "execution_count": 225
    },
    {
     "output_type": "display_data",
     "data": {
      "image/png": "[encoded data removed]",
      "text/plain": [
       "<Figure size 720x360 with 1 Axes>"
      ]
     },
     "metadata": {
      "needs_background": "dark"
     }
    }
   ],
   "metadata": {}
  },
  {
   "cell_type": "code",
   "execution_count": 220,
   "source": [
    "mean = np.mean(x_data)\r\n",
    "MAE = [np.abs(real - mean) for real in x_data]\r\n",
    "MSE = [np.square(real - mean) for real in x_data]\r\n",
    "\r\n",
    "x_data = np.random.random(19)\r\n",
    "y_data = x_data**2\r\n",
    "\r\n",
    "y_hat = (yhat(x_data, y_data))\r\n",
    "\r\n",
    "\r\n",
    "head = np.column_stack((x_data,y_data, y_hat, MAE, MSE))\r\n",
    "tbl = pd.DataFrame(head, columns=('X', 'Y', 'Y_Hat', 'MAE', 'MSE'))\r\n",
    "print(tbl)"
   ],
   "outputs": [
    {
     "output_type": "stream",
     "name": "stdout",
     "text": [
      "           X         Y     Y_Hat       MAE       MSE\n",
      "0   0.809152  0.654726  0.593013  0.034644  0.001200\n",
      "1   0.048904  0.002392 -0.064373  0.140722  0.019803\n",
      "2   0.291958  0.085240  0.145796  0.034012  0.001157\n",
      "3   0.722590  0.522136  0.518163  0.025902  0.000671\n",
      "4   0.587732  0.345429  0.401552  0.263779  0.069579\n",
      "5   0.845836  0.715439  0.624735  0.286686  0.082189\n",
      "6   0.228271  0.052108  0.090725  0.236450  0.055909\n",
      "7   0.669130  0.447736  0.471937  0.204203  0.041699\n",
      "8   0.010757  0.000116 -0.097359  0.551829  0.304515\n",
      "9   0.104680  0.010958 -0.016143  0.270280  0.073051\n",
      "10  0.820559  0.673317  0.602877  0.077213  0.005962\n",
      "11  0.642640  0.412986  0.449030  0.075826  0.005750\n",
      "12  0.431065  0.185817  0.266082  0.318981  0.101749\n",
      "13  0.249732  0.062366  0.109283  0.072784  0.005298\n",
      "14  0.254604  0.064823  0.113496  0.335749  0.112727\n",
      "15  0.545514  0.297585  0.365045  0.151136  0.022842\n",
      "16  0.035623  0.001269 -0.075857  0.191701  0.036749\n",
      "17  0.783495  0.613864  0.570828  0.016083  0.000259\n",
      "18  0.460475  0.212037  0.291512  0.278773  0.077714\n"
     ]
    }
   ],
   "metadata": {}
  },
  {
   "cell_type": "code",
   "execution_count": 221,
   "source": [
    "tbl.to_csv('data.csv')"
   ],
   "outputs": [],
   "metadata": {}
  }
 ],
 "metadata": {
  "orig_nbformat": 4,
  "language_info": {
   "name": "python",
   "version": "3.8.8",
   "mimetype": "text/x-python",
   "codemirror_mode": {
    "name": "ipython",
    "version": 3
   },
   "pygments_lexer": "ipython3",
   "nbconvert_exporter": "python",
   "file_extension": ".py"
  },
  "kernelspec": {
   "name": "python3",
   "display_name": "Python 3.8.8 64-bit ('base': conda)"
  },
  "interpreter": {
   "hash": "6d23dc9fb1536bab160869117775d27c3762152735adc7865e12ca8aac17ccc9"
  }
 },
 "nbformat": 4,
 "nbformat_minor": 2
}