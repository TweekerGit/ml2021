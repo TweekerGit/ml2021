{
 "cells": [
  {
   "cell_type": "markdown",
   "metadata": {},
   "source": [
    "# Практична робота №1\n",
    "### студентa групи МІТ-31\n",
    "### Фітя Владислава Тарасовича"
   ]
  },
  {
   "cell_type": "code",
   "execution_count": 9,
   "metadata": {},
   "outputs": [],
   "source": [
    "\n",
    "import pandas as pd\n",
    "import numpy as np\n",
    "import matplotlib.pyplot as plt\n",
    "import seaborn as sns\n",
    "from sklearn.datasets import make_regression"
   ]
  },
  {
   "cell_type": "code",
   "execution_count": 10,
   "metadata": {},
   "outputs": [
    {
     "data": {
      "text/html": [
       "<div>\n",
       "<style scoped>\n",
       "    .dataframe tbody tr th:only-of-type {\n",
       "        vertical-align: middle;\n",
       "    }\n",
       "\n",
       "    .dataframe tbody tr th {\n",
       "        vertical-align: top;\n",
       "    }\n",
       "\n",
       "    .dataframe thead th {\n",
       "        text-align: right;\n",
       "    }\n",
       "</style>\n",
       "<table border=\"1\" class=\"dataframe\">\n",
       "  <thead>\n",
       "    <tr style=\"text-align: right;\">\n",
       "      <th></th>\n",
       "      <th>n</th>\n",
       "      <th>y</th>\n",
       "      <th>0</th>\n",
       "      <th>1</th>\n",
       "      <th>2</th>\n",
       "      <th>3</th>\n",
       "      <th>4</th>\n",
       "      <th>5</th>\n",
       "      <th>6</th>\n",
       "      <th>7</th>\n",
       "      <th>...</th>\n",
       "      <th>10</th>\n",
       "      <th>11</th>\n",
       "      <th>12</th>\n",
       "      <th>13</th>\n",
       "      <th>14</th>\n",
       "      <th>15</th>\n",
       "      <th>16</th>\n",
       "      <th>17</th>\n",
       "      <th>18</th>\n",
       "      <th>19</th>\n",
       "    </tr>\n",
       "  </thead>\n",
       "  <tbody>\n",
       "    <tr>\n",
       "      <th>0</th>\n",
       "      <td>0</td>\n",
       "      <td>-185.848565</td>\n",
       "      <td>0.135907</td>\n",
       "      <td>-0.389711</td>\n",
       "      <td>-0.491316</td>\n",
       "      <td>-0.341210</td>\n",
       "      <td>-1.850415</td>\n",
       "      <td>-0.329994</td>\n",
       "      <td>-1.436583</td>\n",
       "      <td>-0.949334</td>\n",
       "      <td>...</td>\n",
       "      <td>0.367174</td>\n",
       "      <td>-0.727459</td>\n",
       "      <td>-0.505587</td>\n",
       "      <td>0.687375</td>\n",
       "      <td>-0.317971</td>\n",
       "      <td>-0.600086</td>\n",
       "      <td>-0.505315</td>\n",
       "      <td>-0.610911</td>\n",
       "      <td>-0.120360</td>\n",
       "      <td>0.014709</td>\n",
       "    </tr>\n",
       "    <tr>\n",
       "      <th>1</th>\n",
       "      <td>1</td>\n",
       "      <td>-43.000422</td>\n",
       "      <td>-0.646062</td>\n",
       "      <td>0.384632</td>\n",
       "      <td>1.150812</td>\n",
       "      <td>-2.076824</td>\n",
       "      <td>-0.728794</td>\n",
       "      <td>0.106267</td>\n",
       "      <td>-0.509315</td>\n",
       "      <td>0.174547</td>\n",
       "      <td>...</td>\n",
       "      <td>0.543259</td>\n",
       "      <td>0.838469</td>\n",
       "      <td>-1.021446</td>\n",
       "      <td>0.619505</td>\n",
       "      <td>-1.058429</td>\n",
       "      <td>-0.236914</td>\n",
       "      <td>0.784616</td>\n",
       "      <td>-0.667507</td>\n",
       "      <td>-1.683826</td>\n",
       "      <td>1.593731</td>\n",
       "    </tr>\n",
       "    <tr>\n",
       "      <th>2</th>\n",
       "      <td>2</td>\n",
       "      <td>40.879045</td>\n",
       "      <td>-1.147941</td>\n",
       "      <td>0.865052</td>\n",
       "      <td>-0.350504</td>\n",
       "      <td>-0.696633</td>\n",
       "      <td>-1.155563</td>\n",
       "      <td>-0.710714</td>\n",
       "      <td>2.048991</td>\n",
       "      <td>-0.138018</td>\n",
       "      <td>...</td>\n",
       "      <td>-0.142461</td>\n",
       "      <td>-0.075062</td>\n",
       "      <td>0.551741</td>\n",
       "      <td>-1.279708</td>\n",
       "      <td>1.944821</td>\n",
       "      <td>-0.307462</td>\n",
       "      <td>0.686400</td>\n",
       "      <td>-1.496335</td>\n",
       "      <td>1.276473</td>\n",
       "      <td>0.463369</td>\n",
       "    </tr>\n",
       "    <tr>\n",
       "      <th>3</th>\n",
       "      <td>3</td>\n",
       "      <td>340.340099</td>\n",
       "      <td>0.812036</td>\n",
       "      <td>0.411491</td>\n",
       "      <td>2.650447</td>\n",
       "      <td>1.348958</td>\n",
       "      <td>-0.210343</td>\n",
       "      <td>2.101145</td>\n",
       "      <td>-0.246289</td>\n",
       "      <td>0.453732</td>\n",
       "      <td>...</td>\n",
       "      <td>2.690918</td>\n",
       "      <td>-1.463775</td>\n",
       "      <td>-0.227979</td>\n",
       "      <td>-0.930223</td>\n",
       "      <td>-1.027310</td>\n",
       "      <td>-0.804576</td>\n",
       "      <td>0.199903</td>\n",
       "      <td>0.543513</td>\n",
       "      <td>-0.021497</td>\n",
       "      <td>0.425444</td>\n",
       "    </tr>\n",
       "    <tr>\n",
       "      <th>4</th>\n",
       "      <td>4</td>\n",
       "      <td>-87.269529</td>\n",
       "      <td>0.322318</td>\n",
       "      <td>0.302440</td>\n",
       "      <td>-0.784387</td>\n",
       "      <td>1.310595</td>\n",
       "      <td>-2.202300</td>\n",
       "      <td>0.920735</td>\n",
       "      <td>0.666813</td>\n",
       "      <td>0.494111</td>\n",
       "      <td>...</td>\n",
       "      <td>-0.288123</td>\n",
       "      <td>-1.570782</td>\n",
       "      <td>-2.420399</td>\n",
       "      <td>0.450575</td>\n",
       "      <td>-2.428859</td>\n",
       "      <td>1.082952</td>\n",
       "      <td>-1.349592</td>\n",
       "      <td>1.542375</td>\n",
       "      <td>0.969321</td>\n",
       "      <td>-0.198019</td>\n",
       "    </tr>\n",
       "  </tbody>\n",
       "</table>\n",
       "<p>5 rows × 22 columns</p>\n",
       "</div>"
      ],
      "text/plain": [
       "   n           y         0         1         2         3         4         5  \\\n",
       "0  0 -185.848565  0.135907 -0.389711 -0.491316 -0.341210 -1.850415 -0.329994   \n",
       "1  1  -43.000422 -0.646062  0.384632  1.150812 -2.076824 -0.728794  0.106267   \n",
       "2  2   40.879045 -1.147941  0.865052 -0.350504 -0.696633 -1.155563 -0.710714   \n",
       "3  3  340.340099  0.812036  0.411491  2.650447  1.348958 -0.210343  2.101145   \n",
       "4  4  -87.269529  0.322318  0.302440 -0.784387  1.310595 -2.202300  0.920735   \n",
       "\n",
       "          6         7  ...        10        11        12        13        14  \\\n",
       "0 -1.436583 -0.949334  ...  0.367174 -0.727459 -0.505587  0.687375 -0.317971   \n",
       "1 -0.509315  0.174547  ...  0.543259  0.838469 -1.021446  0.619505 -1.058429   \n",
       "2  2.048991 -0.138018  ... -0.142461 -0.075062  0.551741 -1.279708  1.944821   \n",
       "3 -0.246289  0.453732  ...  2.690918 -1.463775 -0.227979 -0.930223 -1.027310   \n",
       "4  0.666813  0.494111  ... -0.288123 -1.570782 -2.420399  0.450575 -2.428859   \n",
       "\n",
       "         15        16        17        18        19  \n",
       "0 -0.600086 -0.505315 -0.610911 -0.120360  0.014709  \n",
       "1 -0.236914  0.784616 -0.667507 -1.683826  1.593731  \n",
       "2 -0.307462  0.686400 -1.496335  1.276473  0.463369  \n",
       "3 -0.804576  0.199903  0.543513 -0.021497  0.425444  \n",
       "4  1.082952 -1.349592  1.542375  0.969321 -0.198019  \n",
       "\n",
       "[5 rows x 22 columns]"
      ]
     },
     "execution_count": 10,
     "metadata": {},
     "output_type": "execute_result"
    }
   ],
   "source": [
    "df = pd.read_csv('train.csv')\n",
    "df.head()\n"
   ]
  },
  {
   "cell_type": "code",
   "execution_count": 11,
   "metadata": {},
   "outputs": [],
   "source": [
    "import sklearn\n",
    "from sklearn.model_selection import train_test_split"
   ]
  },
  {
   "cell_type": "code",
   "execution_count": 12,
   "metadata": {},
   "outputs": [],
   "source": [
    "columns=df.columns\n",
    "columns=columns[20]\n",
    "X=df[['n', '0', '1', '2', '3', '4', '5', '6', '7', '8', '9', '10', '11', '12', '13', '14', '15', '16', '17', '18', '19']]\n",
    "\n",
    "y=df[['y']]"
   ]
  },
  {
   "cell_type": "code",
   "execution_count": 13,
   "metadata": {},
   "outputs": [],
   "source": [
    "X_train,X_test,y_train,y_test = train_test_split(X,y,test_size=0.3)"
   ]
  },
  {
   "cell_type": "code",
   "execution_count": 14,
   "metadata": {},
   "outputs": [],
   "source": [
    "\n",
    "from sklearn.linear_model import LinearRegression\n"
   ]
  },
  {
   "cell_type": "code",
   "execution_count": 15,
   "metadata": {},
   "outputs": [],
   "source": [
    "model = LinearRegression()"
   ]
  },
  {
   "cell_type": "code",
   "execution_count": 16,
   "metadata": {},
   "outputs": [
    {
     "data": {
      "text/plain": [
       "LinearRegression()"
      ]
     },
     "execution_count": 16,
     "metadata": {},
     "output_type": "execute_result"
    }
   ],
   "source": [
    "model.fit(X_train,y_train)"
   ]
  },
  {
   "cell_type": "code",
   "execution_count": 17,
   "metadata": {},
   "outputs": [],
   "source": [
    "y_Hat = model.predict(X_test)"
   ]
  },
  {
   "cell_type": "code",
   "execution_count": 18,
   "metadata": {},
   "outputs": [],
   "source": [
    "from sklearn.metrics import mean_absolute_error"
   ]
  },
  {
   "cell_type": "code",
   "execution_count": 19,
   "metadata": {},
   "outputs": [
    {
     "data": {
      "text/plain": [
       "7.8880189291662735"
      ]
     },
     "execution_count": 19,
     "metadata": {},
     "output_type": "execute_result"
    }
   ],
   "source": [
    "mean_absolute_error(y_test, y_Hat)"
   ]
  },
  {
   "cell_type": "code",
   "execution_count": 20,
   "metadata": {},
   "outputs": [
    {
     "data": {
      "text/plain": [
       "97.32331251422929"
      ]
     },
     "execution_count": 20,
     "metadata": {},
     "output_type": "execute_result"
    }
   ],
   "source": [
    "from sklearn.metrics import mean_squared_error \n",
    "mean_squared_error(y_test, y_Hat)"
   ]
  },
  {
   "cell_type": "code",
   "execution_count": 21,
   "metadata": {},
   "outputs": [
    {
     "data": {
      "text/html": [
       "<div>\n",
       "<style scoped>\n",
       "    .dataframe tbody tr th:only-of-type {\n",
       "        vertical-align: middle;\n",
       "    }\n",
       "\n",
       "    .dataframe tbody tr th {\n",
       "        vertical-align: top;\n",
       "    }\n",
       "\n",
       "    .dataframe thead th {\n",
       "        text-align: right;\n",
       "    }\n",
       "</style>\n",
       "<table border=\"1\" class=\"dataframe\">\n",
       "  <thead>\n",
       "    <tr style=\"text-align: right;\">\n",
       "      <th></th>\n",
       "      <th>y</th>\n",
       "      <th>y_predicted</th>\n",
       "    </tr>\n",
       "  </thead>\n",
       "  <tbody>\n",
       "    <tr>\n",
       "      <th>6813</th>\n",
       "      <td>130.649294</td>\n",
       "      <td>120.742304</td>\n",
       "    </tr>\n",
       "    <tr>\n",
       "      <th>419</th>\n",
       "      <td>384.824944</td>\n",
       "      <td>364.292547</td>\n",
       "    </tr>\n",
       "    <tr>\n",
       "      <th>9448</th>\n",
       "      <td>494.967013</td>\n",
       "      <td>489.883509</td>\n",
       "    </tr>\n",
       "    <tr>\n",
       "      <th>3510</th>\n",
       "      <td>154.367659</td>\n",
       "      <td>166.022823</td>\n",
       "    </tr>\n",
       "    <tr>\n",
       "      <th>3129</th>\n",
       "      <td>19.197977</td>\n",
       "      <td>2.662522</td>\n",
       "    </tr>\n",
       "  </tbody>\n",
       "</table>\n",
       "</div>"
      ],
      "text/plain": [
       "               y  y_predicted\n",
       "6813  130.649294   120.742304\n",
       "419   384.824944   364.292547\n",
       "9448  494.967013   489.883509\n",
       "3510  154.367659   166.022823\n",
       "3129   19.197977     2.662522"
      ]
     },
     "execution_count": 21,
     "metadata": {},
     "output_type": "execute_result"
    }
   ],
   "source": [
    "res = pd.DataFrame(y_test)\n",
    "res['y_predicted'] = y_Hat\n",
    "\n",
    "res.head()"
   ]
  },
  {
   "cell_type": "code",
   "execution_count": 22,
   "metadata": {},
   "outputs": [
    {
     "data": {
      "text/plain": [
       "<matplotlib.collections.PathCollection at 0x213ecf8c2b0>"
      ]
     },
     "execution_count": 22,
     "metadata": {},
     "output_type": "execute_result"
    },
    {
     "data": {
      "image/png": "[encoded data removed]",
      "text/plain": [
       "<Figure size 432x288 with 1 Axes>"
      ]
     },
     "metadata": {
      "needs_background": "light"
     },
     "output_type": "display_data"
    }
   ],
   "source": [
    "plt.scatter(res['y'],res['y_predicted'])"
   ]
  },
  {
   "cell_type": "code",
   "execution_count": 23,
   "metadata": {},
   "outputs": [],
   "source": [
    "df = pd.read_csv('test.csv')"
   ]
  },
  {
   "cell_type": "code",
   "execution_count": 24,
   "metadata": {},
   "outputs": [],
   "source": [
    "X_new=df[['n', '0', '1', '2', '3', '4', '5', '6', '7', '8', '9', '10', '11', '12', '13', '14', '15', '16', '17', '18', '19']]"
   ]
  },
  {
   "cell_type": "code",
   "execution_count": 25,
   "metadata": {},
   "outputs": [],
   "source": [
    "y_new = model.predict(X_new)"
   ]
  },
  {
   "cell_type": "code",
   "execution_count": 26,
   "metadata": {},
   "outputs": [
    {
     "data": {
      "text/html": [
       "<div>\n",
       "<style scoped>\n",
       "    .dataframe tbody tr th:only-of-type {\n",
       "        vertical-align: middle;\n",
       "    }\n",
       "\n",
       "    .dataframe tbody tr th {\n",
       "        vertical-align: top;\n",
       "    }\n",
       "\n",
       "    .dataframe thead th {\n",
       "        text-align: right;\n",
       "    }\n",
       "</style>\n",
       "<table border=\"1\" class=\"dataframe\">\n",
       "  <thead>\n",
       "    <tr style=\"text-align: right;\">\n",
       "      <th></th>\n",
       "      <th>n</th>\n",
       "      <th>0</th>\n",
       "      <th>1</th>\n",
       "      <th>2</th>\n",
       "      <th>3</th>\n",
       "      <th>4</th>\n",
       "      <th>5</th>\n",
       "      <th>6</th>\n",
       "      <th>7</th>\n",
       "      <th>8</th>\n",
       "      <th>...</th>\n",
       "      <th>11</th>\n",
       "      <th>12</th>\n",
       "      <th>13</th>\n",
       "      <th>14</th>\n",
       "      <th>15</th>\n",
       "      <th>16</th>\n",
       "      <th>17</th>\n",
       "      <th>18</th>\n",
       "      <th>19</th>\n",
       "      <th>y</th>\n",
       "    </tr>\n",
       "  </thead>\n",
       "  <tbody>\n",
       "    <tr>\n",
       "      <th>0</th>\n",
       "      <td>0</td>\n",
       "      <td>-1.678974</td>\n",
       "      <td>1.668441</td>\n",
       "      <td>-0.064711</td>\n",
       "      <td>-1.469209</td>\n",
       "      <td>-0.242975</td>\n",
       "      <td>0.433498</td>\n",
       "      <td>-0.466934</td>\n",
       "      <td>-1.568630</td>\n",
       "      <td>0.077867</td>\n",
       "      <td>...</td>\n",
       "      <td>-1.590419</td>\n",
       "      <td>-1.816620</td>\n",
       "      <td>1.492937</td>\n",
       "      <td>0.983534</td>\n",
       "      <td>-2.554402</td>\n",
       "      <td>-0.073122</td>\n",
       "      <td>2.037218</td>\n",
       "      <td>-1.123635</td>\n",
       "      <td>-0.734387</td>\n",
       "      <td>-312.701013</td>\n",
       "    </tr>\n",
       "    <tr>\n",
       "      <th>1</th>\n",
       "      <td>1</td>\n",
       "      <td>-1.221862</td>\n",
       "      <td>-0.158434</td>\n",
       "      <td>0.317901</td>\n",
       "      <td>-1.186261</td>\n",
       "      <td>-0.789442</td>\n",
       "      <td>-0.831159</td>\n",
       "      <td>-1.205366</td>\n",
       "      <td>-0.281614</td>\n",
       "      <td>-0.101108</td>\n",
       "      <td>...</td>\n",
       "      <td>1.008723</td>\n",
       "      <td>-2.089112</td>\n",
       "      <td>0.025769</td>\n",
       "      <td>-0.921138</td>\n",
       "      <td>1.599206</td>\n",
       "      <td>-1.585950</td>\n",
       "      <td>-0.352168</td>\n",
       "      <td>0.765695</td>\n",
       "      <td>-0.751672</td>\n",
       "      <td>-37.417194</td>\n",
       "    </tr>\n",
       "    <tr>\n",
       "      <th>2</th>\n",
       "      <td>2</td>\n",
       "      <td>-2.550122</td>\n",
       "      <td>0.614880</td>\n",
       "      <td>-0.215944</td>\n",
       "      <td>-0.934346</td>\n",
       "      <td>-0.128805</td>\n",
       "      <td>-1.224275</td>\n",
       "      <td>-0.033226</td>\n",
       "      <td>0.440803</td>\n",
       "      <td>1.325500</td>\n",
       "      <td>...</td>\n",
       "      <td>-0.456377</td>\n",
       "      <td>-1.102108</td>\n",
       "      <td>0.513862</td>\n",
       "      <td>-1.202592</td>\n",
       "      <td>0.738500</td>\n",
       "      <td>0.458646</td>\n",
       "      <td>-1.433196</td>\n",
       "      <td>-0.406365</td>\n",
       "      <td>-0.936753</td>\n",
       "      <td>-68.774418</td>\n",
       "    </tr>\n",
       "    <tr>\n",
       "      <th>3</th>\n",
       "      <td>3</td>\n",
       "      <td>-0.295462</td>\n",
       "      <td>-0.102388</td>\n",
       "      <td>-0.184429</td>\n",
       "      <td>-0.698833</td>\n",
       "      <td>-0.655322</td>\n",
       "      <td>-0.322448</td>\n",
       "      <td>0.118812</td>\n",
       "      <td>0.302215</td>\n",
       "      <td>-1.231962</td>\n",
       "      <td>...</td>\n",
       "      <td>0.250552</td>\n",
       "      <td>-0.247081</td>\n",
       "      <td>0.432401</td>\n",
       "      <td>-0.928108</td>\n",
       "      <td>1.161559</td>\n",
       "      <td>0.136275</td>\n",
       "      <td>-0.514690</td>\n",
       "      <td>-0.408213</td>\n",
       "      <td>-2.355416</td>\n",
       "      <td>-120.947629</td>\n",
       "    </tr>\n",
       "    <tr>\n",
       "      <th>4</th>\n",
       "      <td>4</td>\n",
       "      <td>1.437188</td>\n",
       "      <td>2.008046</td>\n",
       "      <td>-0.690650</td>\n",
       "      <td>-0.047471</td>\n",
       "      <td>-0.313602</td>\n",
       "      <td>-0.696358</td>\n",
       "      <td>-0.860928</td>\n",
       "      <td>0.053828</td>\n",
       "      <td>-0.929453</td>\n",
       "      <td>...</td>\n",
       "      <td>-0.924583</td>\n",
       "      <td>0.231296</td>\n",
       "      <td>0.355849</td>\n",
       "      <td>-0.171842</td>\n",
       "      <td>0.008417</td>\n",
       "      <td>-0.398672</td>\n",
       "      <td>0.580082</td>\n",
       "      <td>-1.262821</td>\n",
       "      <td>-1.526447</td>\n",
       "      <td>-229.354351</td>\n",
       "    </tr>\n",
       "  </tbody>\n",
       "</table>\n",
       "<p>5 rows × 22 columns</p>\n",
       "</div>"
      ],
      "text/plain": [
       "   n         0         1         2         3         4         5         6  \\\n",
       "0  0 -1.678974  1.668441 -0.064711 -1.469209 -0.242975  0.433498 -0.466934   \n",
       "1  1 -1.221862 -0.158434  0.317901 -1.186261 -0.789442 -0.831159 -1.205366   \n",
       "2  2 -2.550122  0.614880 -0.215944 -0.934346 -0.128805 -1.224275 -0.033226   \n",
       "3  3 -0.295462 -0.102388 -0.184429 -0.698833 -0.655322 -0.322448  0.118812   \n",
       "4  4  1.437188  2.008046 -0.690650 -0.047471 -0.313602 -0.696358 -0.860928   \n",
       "\n",
       "          7         8  ...        11        12        13        14        15  \\\n",
       "0 -1.568630  0.077867  ... -1.590419 -1.816620  1.492937  0.983534 -2.554402   \n",
       "1 -0.281614 -0.101108  ...  1.008723 -2.089112  0.025769 -0.921138  1.599206   \n",
       "2  0.440803  1.325500  ... -0.456377 -1.102108  0.513862 -1.202592  0.738500   \n",
       "3  0.302215 -1.231962  ...  0.250552 -0.247081  0.432401 -0.928108  1.161559   \n",
       "4  0.053828 -0.929453  ... -0.924583  0.231296  0.355849 -0.171842  0.008417   \n",
       "\n",
       "         16        17        18        19           y  \n",
       "0 -0.073122  2.037218 -1.123635 -0.734387 -312.701013  \n",
       "1 -1.585950 -0.352168  0.765695 -0.751672  -37.417194  \n",
       "2  0.458646 -1.433196 -0.406365 -0.936753  -68.774418  \n",
       "3  0.136275 -0.514690 -0.408213 -2.355416 -120.947629  \n",
       "4 -0.398672  0.580082 -1.262821 -1.526447 -229.354351  \n",
       "\n",
       "[5 rows x 22 columns]"
      ]
     },
     "execution_count": 26,
     "metadata": {},
     "output_type": "execute_result"
    }
   ],
   "source": [
    "res = pd.DataFrame(X_new)\n",
    "res['y'] = y_new\n",
    "\n",
    "res.head()"
   ]
  },
  {
   "cell_type": "code",
   "execution_count": 27,
   "metadata": {},
   "outputs": [],
   "source": [
    "for i in range (0,10):\n",
    "    res = res.drop(f\"{i}\", axis = 1)\n"
   ]
  },
  {
   "cell_type": "code",
   "execution_count": 28,
   "metadata": {},
   "outputs": [],
   "source": [
    "res.to_csv('outputData.csv', index=False)"
   ]
  }
 ],
 "metadata": {
  "interpreter": {
   "hash": "882c6579063fcf956d3d9ce532da9b8df22cf25f34d7823efaf795669b281d8b"
  },
  "kernelspec": {
   "display_name": "Python 3.8.8 64-bit ('base': conda)",
   "name": "python3"
  },
  "language_info": {
   "codemirror_mode": {
    "name": "ipython",
    "version": 3
   },
   "file_extension": ".py",
   "mimetype": "text/x-python",
   "name": "python",
   "nbconvert_exporter": "python",
   "pygments_lexer": "ipython3",
   "version": "3.8.8"
  },
  "orig_nbformat": 4
 },
 "nbformat": 4,
 "nbformat_minor": 2
}
