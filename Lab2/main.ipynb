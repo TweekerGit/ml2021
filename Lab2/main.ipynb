{
 "cells": [
  {
   "cell_type": "markdown",
   "source": [
    "# Лабораторна робота 2\r\n",
    "### Студента групи МІТ-31 (підгрупа 2)\r\n",
    "### Фіть Владислава Тарасовича\r\n",
   ],
   "metadata": {}
  },
  {
   "cell_type": "code",
   "execution_count": 392,
   "source": [
    "import pandas as pd\r\n",
    "import numpy as np\r\n",
    "import matplotlib.pyplot as mat\r\n",
    "import seaborn as sea\r\n",
    "import sklearn\r\n",
    "import random as rnd\r\n",
    "from sklearn.model_selection import train_test_split\r\n",
    "from sklearn.datasets import make_regression\r\n",
    "from sklearn.linear_model import LinearRegression\r\n",
    "from sklearn.metrics import mean_absolute_error\r\n",
    "from sklearn.metrics import mean_squared_error "
   ],
   "outputs": [],
   "metadata": {}
  },
  {
   "cell_type": "markdown",
   "source": [
    "### 1. Створити набір даних за допомогою DatasetGenerator"
   ],
   "metadata": {}
  },
  {
   "cell_type": "code",
   "execution_count": 393,
   "source": [
    "x, y = make_regression(n_samples=1028, n_features=19, n_informative=512, n_targets=1,  noise=1.0, shuffle=True, coef=False, random_state=None)\r\n",
    "\r\n",
    "print(x,y)"
   ],
   "outputs": [
    {
     "output_type": "stream",
     "name": "stdout",
     "text": [
      "[[-1.15462388  1.62841065 -0.95218929 ... -0.69125439  0.57256074\n",
      "   0.39753751]\n",
      " [-0.12468596  1.42666903  0.38849601 ...  0.42899303 -2.71273555\n",
      "   0.20556994]\n",
      " [-2.09658405 -1.22242423 -1.50548874 ... -1.04601274 -1.60989949\n",
      "  -0.10934657]\n",
      " ...\n",
      " [-0.73014522 -1.41645349 -0.88152243 ...  1.23575546 -0.25223195\n",
      "  -0.19920207]\n",
      " [-0.3817268  -1.17086296  0.48903842 ...  0.01517439  1.34318927\n",
      "   1.01431185]\n",
      " [-0.14593453 -0.46161327  0.04933963 ...  0.54908448  0.64852011\n",
      "  -0.77286612]] [ -22.34730242  523.33963353 -499.00734598 ...   79.01672233  402.86571669\n",
      " -233.79947603]\n"
     ]
    }
   ],
   "metadata": {}
  },
  {
   "cell_type": "code",
   "execution_count": 394,
   "source": [
    "data = pd.DataFrame(x, y)\r\n",
    "data.head()"
   ],
   "outputs": [
    {
     "output_type": "execute_result",
     "data": {
      "text/html": [
       "<div>\n",
       "<style scoped>\n",
       "    .dataframe tbody tr th:only-of-type {\n",
       "        vertical-align: middle;\n",
       "    }\n",
       "\n",
       "    .dataframe tbody tr th {\n",
       "        vertical-align: top;\n",
       "    }\n",
       "\n",
       "    .dataframe thead th {\n",
       "        text-align: right;\n",
       "    }\n",
       "</style>\n",
       "<table border=\"1\" class=\"dataframe\">\n",
       "  <thead>\n",
       "    <tr style=\"text-align: right;\">\n",
       "      <th></th>\n",
       "      <th>0</th>\n",
       "      <th>1</th>\n",
       "      <th>2</th>\n",
       "      <th>3</th>\n",
       "      <th>4</th>\n",
       "      <th>5</th>\n",
       "      <th>6</th>\n",
       "      <th>7</th>\n",
       "      <th>8</th>\n",
       "      <th>9</th>\n",
       "      <th>10</th>\n",
       "      <th>11</th>\n",
       "      <th>12</th>\n",
       "      <th>13</th>\n",
       "      <th>14</th>\n",
       "      <th>15</th>\n",
       "      <th>16</th>\n",
       "      <th>17</th>\n",
       "      <th>18</th>\n",
       "    </tr>\n",
       "  </thead>\n",
       "  <tbody>\n",
       "    <tr>\n",
       "      <th>-22.347302</th>\n",
       "      <td>-1.154624</td>\n",
       "      <td>1.628411</td>\n",
       "      <td>-0.952189</td>\n",
       "      <td>-0.886975</td>\n",
       "      <td>-1.167677</td>\n",
       "      <td>1.128908</td>\n",
       "      <td>0.884927</td>\n",
       "      <td>-1.568150</td>\n",
       "      <td>-0.099384</td>\n",
       "      <td>0.522863</td>\n",
       "      <td>0.011517</td>\n",
       "      <td>-0.597401</td>\n",
       "      <td>2.431053</td>\n",
       "      <td>0.786634</td>\n",
       "      <td>-0.253307</td>\n",
       "      <td>-0.277376</td>\n",
       "      <td>-0.691254</td>\n",
       "      <td>0.572561</td>\n",
       "      <td>0.397538</td>\n",
       "    </tr>\n",
       "    <tr>\n",
       "      <th>523.339634</th>\n",
       "      <td>-0.124686</td>\n",
       "      <td>1.426669</td>\n",
       "      <td>0.388496</td>\n",
       "      <td>0.373375</td>\n",
       "      <td>-0.330794</td>\n",
       "      <td>-0.908172</td>\n",
       "      <td>1.005068</td>\n",
       "      <td>2.668683</td>\n",
       "      <td>0.566318</td>\n",
       "      <td>0.723917</td>\n",
       "      <td>-0.798367</td>\n",
       "      <td>0.571037</td>\n",
       "      <td>-0.675196</td>\n",
       "      <td>-0.506453</td>\n",
       "      <td>0.669989</td>\n",
       "      <td>1.571374</td>\n",
       "      <td>0.428993</td>\n",
       "      <td>-2.712736</td>\n",
       "      <td>0.205570</td>\n",
       "    </tr>\n",
       "    <tr>\n",
       "      <th>-499.007346</th>\n",
       "      <td>-2.096584</td>\n",
       "      <td>-1.222424</td>\n",
       "      <td>-1.505489</td>\n",
       "      <td>0.722071</td>\n",
       "      <td>-0.205998</td>\n",
       "      <td>2.284296</td>\n",
       "      <td>0.094077</td>\n",
       "      <td>-1.056301</td>\n",
       "      <td>-0.196657</td>\n",
       "      <td>-0.758148</td>\n",
       "      <td>-0.747851</td>\n",
       "      <td>0.801203</td>\n",
       "      <td>-0.388406</td>\n",
       "      <td>-3.286549</td>\n",
       "      <td>-0.139991</td>\n",
       "      <td>0.279174</td>\n",
       "      <td>-1.046013</td>\n",
       "      <td>-1.609899</td>\n",
       "      <td>-0.109347</td>\n",
       "    </tr>\n",
       "    <tr>\n",
       "      <th>18.270235</th>\n",
       "      <td>0.923610</td>\n",
       "      <td>0.070677</td>\n",
       "      <td>1.021519</td>\n",
       "      <td>-0.392492</td>\n",
       "      <td>-0.888417</td>\n",
       "      <td>0.341536</td>\n",
       "      <td>1.000285</td>\n",
       "      <td>-1.362045</td>\n",
       "      <td>1.122361</td>\n",
       "      <td>-2.700029</td>\n",
       "      <td>1.890383</td>\n",
       "      <td>-0.770978</td>\n",
       "      <td>1.292861</td>\n",
       "      <td>-0.941842</td>\n",
       "      <td>-2.180748</td>\n",
       "      <td>0.873598</td>\n",
       "      <td>-1.880145</td>\n",
       "      <td>2.321670</td>\n",
       "      <td>1.444474</td>\n",
       "    </tr>\n",
       "    <tr>\n",
       "      <th>-47.818097</th>\n",
       "      <td>1.168592</td>\n",
       "      <td>-0.251297</td>\n",
       "      <td>-1.288131</td>\n",
       "      <td>-0.718546</td>\n",
       "      <td>0.877056</td>\n",
       "      <td>0.956138</td>\n",
       "      <td>2.158508</td>\n",
       "      <td>-1.961907</td>\n",
       "      <td>0.257331</td>\n",
       "      <td>-0.473584</td>\n",
       "      <td>-0.169101</td>\n",
       "      <td>0.023044</td>\n",
       "      <td>1.319039</td>\n",
       "      <td>1.117292</td>\n",
       "      <td>-1.781170</td>\n",
       "      <td>-1.337906</td>\n",
       "      <td>0.845108</td>\n",
       "      <td>1.347999</td>\n",
       "      <td>1.920767</td>\n",
       "    </tr>\n",
       "  </tbody>\n",
       "</table>\n",
       "</div>"
      ],
      "text/plain": [
       "                   0         1         2         3         4         5   \\\n",
       "-22.347302  -1.154624  1.628411 -0.952189 -0.886975 -1.167677  1.128908   \n",
       " 523.339634 -0.124686  1.426669  0.388496  0.373375 -0.330794 -0.908172   \n",
       "-499.007346 -2.096584 -1.222424 -1.505489  0.722071 -0.205998  2.284296   \n",
       " 18.270235   0.923610  0.070677  1.021519 -0.392492 -0.888417  0.341536   \n",
       "-47.818097   1.168592 -0.251297 -1.288131 -0.718546  0.877056  0.956138   \n",
       "\n",
       "                   6         7         8         9         10        11  \\\n",
       "-22.347302   0.884927 -1.568150 -0.099384  0.522863  0.011517 -0.597401   \n",
       " 523.339634  1.005068  2.668683  0.566318  0.723917 -0.798367  0.571037   \n",
       "-499.007346  0.094077 -1.056301 -0.196657 -0.758148 -0.747851  0.801203   \n",
       " 18.270235   1.000285 -1.362045  1.122361 -2.700029  1.890383 -0.770978   \n",
       "-47.818097   2.158508 -1.961907  0.257331 -0.473584 -0.169101  0.023044   \n",
       "\n",
       "                   12        13        14        15        16        17  \\\n",
       "-22.347302   2.431053  0.786634 -0.253307 -0.277376 -0.691254  0.572561   \n",
       " 523.339634 -0.675196 -0.506453  0.669989  1.571374  0.428993 -2.712736   \n",
       "-499.007346 -0.388406 -3.286549 -0.139991  0.279174 -1.046013 -1.609899   \n",
       " 18.270235   1.292861 -0.941842 -2.180748  0.873598 -1.880145  2.321670   \n",
       "-47.818097   1.319039  1.117292 -1.781170 -1.337906  0.845108  1.347999   \n",
       "\n",
       "                   18  \n",
       "-22.347302   0.397538  \n",
       " 523.339634  0.205570  \n",
       "-499.007346 -0.109347  \n",
       " 18.270235   1.444474  \n",
       "-47.818097   1.920767  "
      ]
     },
     "metadata": {},
     "execution_count": 394
    }
   ],
   "metadata": {}
  },
  {
   "cell_type": "code",
   "execution_count": 395,
   "source": [
    "data.info()"
   ],
   "outputs": [
    {
     "output_type": "stream",
     "name": "stdout",
     "text": [
      "<class 'pandas.core.frame.DataFrame'>\n",
      "Float64Index: 1028 entries, -22.347302424685985 to -233.79947603315406\n",
      "Data columns (total 19 columns):\n",
      " #   Column  Non-Null Count  Dtype  \n",
      "---  ------  --------------  -----  \n",
      " 0   0       1028 non-null   float64\n",
      " 1   1       1028 non-null   float64\n",
      " 2   2       1028 non-null   float64\n",
      " 3   3       1028 non-null   float64\n",
      " 4   4       1028 non-null   float64\n",
      " 5   5       1028 non-null   float64\n",
      " 6   6       1028 non-null   float64\n",
      " 7   7       1028 non-null   float64\n",
      " 8   8       1028 non-null   float64\n",
      " 9   9       1028 non-null   float64\n",
      " 10  10      1028 non-null   float64\n",
      " 11  11      1028 non-null   float64\n",
      " 12  12      1028 non-null   float64\n",
      " 13  13      1028 non-null   float64\n",
      " 14  14      1028 non-null   float64\n",
      " 15  15      1028 non-null   float64\n",
      " 16  16      1028 non-null   float64\n",
      " 17  17      1028 non-null   float64\n",
      " 18  18      1028 non-null   float64\n",
      "dtypes: float64(19)\n",
      "memory usage: 160.6 KB\n"
     ]
    }
   ],
   "metadata": {}
  },
  {
   "cell_type": "code",
   "execution_count": 396,
   "source": [
    "data.describe()"
   ],
   "outputs": [
    {
     "output_type": "execute_result",
     "data": {
      "text/html": [
       "<div>\n",
       "<style scoped>\n",
       "    .dataframe tbody tr th:only-of-type {\n",
       "        vertical-align: middle;\n",
       "    }\n",
       "\n",
       "    .dataframe tbody tr th {\n",
       "        vertical-align: top;\n",
       "    }\n",
       "\n",
       "    .dataframe thead th {\n",
       "        text-align: right;\n",
       "    }\n",
       "</style>\n",
       "<table border=\"1\" class=\"dataframe\">\n",
       "  <thead>\n",
       "    <tr style=\"text-align: right;\">\n",
       "      <th></th>\n",
       "      <th>0</th>\n",
       "      <th>1</th>\n",
       "      <th>2</th>\n",
       "      <th>3</th>\n",
       "      <th>4</th>\n",
       "      <th>5</th>\n",
       "      <th>6</th>\n",
       "      <th>7</th>\n",
       "      <th>8</th>\n",
       "      <th>9</th>\n",
       "      <th>10</th>\n",
       "      <th>11</th>\n",
       "      <th>12</th>\n",
       "      <th>13</th>\n",
       "      <th>14</th>\n",
       "      <th>15</th>\n",
       "      <th>16</th>\n",
       "      <th>17</th>\n",
       "      <th>18</th>\n",
       "    </tr>\n",
       "  </thead>\n",
       "  <tbody>\n",
       "    <tr>\n",
       "      <th>count</th>\n",
       "      <td>1028.000000</td>\n",
       "      <td>1028.000000</td>\n",
       "      <td>1028.000000</td>\n",
       "      <td>1028.000000</td>\n",
       "      <td>1028.000000</td>\n",
       "      <td>1028.000000</td>\n",
       "      <td>1028.000000</td>\n",
       "      <td>1028.000000</td>\n",
       "      <td>1028.000000</td>\n",
       "      <td>1028.000000</td>\n",
       "      <td>1028.000000</td>\n",
       "      <td>1028.000000</td>\n",
       "      <td>1028.000000</td>\n",
       "      <td>1028.000000</td>\n",
       "      <td>1028.000000</td>\n",
       "      <td>1028.000000</td>\n",
       "      <td>1028.000000</td>\n",
       "      <td>1028.000000</td>\n",
       "      <td>1028.000000</td>\n",
       "    </tr>\n",
       "    <tr>\n",
       "      <th>mean</th>\n",
       "      <td>-0.044091</td>\n",
       "      <td>0.013525</td>\n",
       "      <td>-0.019565</td>\n",
       "      <td>0.039565</td>\n",
       "      <td>-0.030935</td>\n",
       "      <td>0.013162</td>\n",
       "      <td>0.049187</td>\n",
       "      <td>0.014289</td>\n",
       "      <td>-0.020240</td>\n",
       "      <td>0.034696</td>\n",
       "      <td>-0.060485</td>\n",
       "      <td>-0.073064</td>\n",
       "      <td>0.041454</td>\n",
       "      <td>-0.011088</td>\n",
       "      <td>-0.013296</td>\n",
       "      <td>-0.051014</td>\n",
       "      <td>-0.009988</td>\n",
       "      <td>0.033456</td>\n",
       "      <td>-0.003686</td>\n",
       "    </tr>\n",
       "    <tr>\n",
       "      <th>std</th>\n",
       "      <td>0.938275</td>\n",
       "      <td>0.981524</td>\n",
       "      <td>0.956040</td>\n",
       "      <td>1.006150</td>\n",
       "      <td>0.975941</td>\n",
       "      <td>1.006514</td>\n",
       "      <td>0.999463</td>\n",
       "      <td>1.049018</td>\n",
       "      <td>1.022537</td>\n",
       "      <td>1.007566</td>\n",
       "      <td>1.001820</td>\n",
       "      <td>0.998922</td>\n",
       "      <td>1.032324</td>\n",
       "      <td>1.010323</td>\n",
       "      <td>0.987772</td>\n",
       "      <td>0.989427</td>\n",
       "      <td>1.038149</td>\n",
       "      <td>1.024607</td>\n",
       "      <td>1.016641</td>\n",
       "    </tr>\n",
       "    <tr>\n",
       "      <th>min</th>\n",
       "      <td>-2.697514</td>\n",
       "      <td>-3.225798</td>\n",
       "      <td>-3.297120</td>\n",
       "      <td>-3.452656</td>\n",
       "      <td>-2.939491</td>\n",
       "      <td>-3.349047</td>\n",
       "      <td>-2.799318</td>\n",
       "      <td>-3.367838</td>\n",
       "      <td>-3.354470</td>\n",
       "      <td>-3.671508</td>\n",
       "      <td>-3.272401</td>\n",
       "      <td>-3.120994</td>\n",
       "      <td>-3.137387</td>\n",
       "      <td>-3.329666</td>\n",
       "      <td>-3.407970</td>\n",
       "      <td>-3.224648</td>\n",
       "      <td>-3.980017</td>\n",
       "      <td>-3.522486</td>\n",
       "      <td>-3.591951</td>\n",
       "    </tr>\n",
       "    <tr>\n",
       "      <th>25%</th>\n",
       "      <td>-0.688732</td>\n",
       "      <td>-0.637579</td>\n",
       "      <td>-0.695798</td>\n",
       "      <td>-0.628614</td>\n",
       "      <td>-0.681088</td>\n",
       "      <td>-0.677400</td>\n",
       "      <td>-0.613951</td>\n",
       "      <td>-0.693698</td>\n",
       "      <td>-0.722208</td>\n",
       "      <td>-0.628021</td>\n",
       "      <td>-0.752230</td>\n",
       "      <td>-0.772737</td>\n",
       "      <td>-0.644066</td>\n",
       "      <td>-0.715645</td>\n",
       "      <td>-0.649912</td>\n",
       "      <td>-0.722671</td>\n",
       "      <td>-0.701610</td>\n",
       "      <td>-0.648602</td>\n",
       "      <td>-0.729720</td>\n",
       "    </tr>\n",
       "    <tr>\n",
       "      <th>50%</th>\n",
       "      <td>-0.034488</td>\n",
       "      <td>0.021871</td>\n",
       "      <td>0.025417</td>\n",
       "      <td>0.044796</td>\n",
       "      <td>-0.063692</td>\n",
       "      <td>-0.020248</td>\n",
       "      <td>0.057883</td>\n",
       "      <td>0.017838</td>\n",
       "      <td>-0.019787</td>\n",
       "      <td>0.036035</td>\n",
       "      <td>-0.048694</td>\n",
       "      <td>-0.046239</td>\n",
       "      <td>0.083283</td>\n",
       "      <td>-0.008074</td>\n",
       "      <td>-0.028727</td>\n",
       "      <td>-0.007924</td>\n",
       "      <td>0.000185</td>\n",
       "      <td>0.026750</td>\n",
       "      <td>0.019482</td>\n",
       "    </tr>\n",
       "    <tr>\n",
       "      <th>75%</th>\n",
       "      <td>0.586356</td>\n",
       "      <td>0.689809</td>\n",
       "      <td>0.616352</td>\n",
       "      <td>0.726230</td>\n",
       "      <td>0.676587</td>\n",
       "      <td>0.702129</td>\n",
       "      <td>0.747609</td>\n",
       "      <td>0.693506</td>\n",
       "      <td>0.656622</td>\n",
       "      <td>0.771299</td>\n",
       "      <td>0.623356</td>\n",
       "      <td>0.574732</td>\n",
       "      <td>0.753247</td>\n",
       "      <td>0.671303</td>\n",
       "      <td>0.669225</td>\n",
       "      <td>0.593940</td>\n",
       "      <td>0.685390</td>\n",
       "      <td>0.770745</td>\n",
       "      <td>0.655832</td>\n",
       "    </tr>\n",
       "    <tr>\n",
       "      <th>max</th>\n",
       "      <td>2.907727</td>\n",
       "      <td>2.950270</td>\n",
       "      <td>2.964694</td>\n",
       "      <td>3.197962</td>\n",
       "      <td>2.889281</td>\n",
       "      <td>3.052792</td>\n",
       "      <td>3.187692</td>\n",
       "      <td>3.682758</td>\n",
       "      <td>3.528800</td>\n",
       "      <td>2.741806</td>\n",
       "      <td>2.702338</td>\n",
       "      <td>3.462354</td>\n",
       "      <td>3.090535</td>\n",
       "      <td>2.952045</td>\n",
       "      <td>3.104222</td>\n",
       "      <td>3.014401</td>\n",
       "      <td>2.943225</td>\n",
       "      <td>3.114902</td>\n",
       "      <td>3.066922</td>\n",
       "    </tr>\n",
       "  </tbody>\n",
       "</table>\n",
       "</div>"
      ],
      "text/plain": [
       "                0            1            2            3            4   \\\n",
       "count  1028.000000  1028.000000  1028.000000  1028.000000  1028.000000   \n",
       "mean     -0.044091     0.013525    -0.019565     0.039565    -0.030935   \n",
       "std       0.938275     0.981524     0.956040     1.006150     0.975941   \n",
       "min      -2.697514    -3.225798    -3.297120    -3.452656    -2.939491   \n",
       "25%      -0.688732    -0.637579    -0.695798    -0.628614    -0.681088   \n",
       "50%      -0.034488     0.021871     0.025417     0.044796    -0.063692   \n",
       "75%       0.586356     0.689809     0.616352     0.726230     0.676587   \n",
       "max       2.907727     2.950270     2.964694     3.197962     2.889281   \n",
       "\n",
       "                5            6            7            8            9   \\\n",
       "count  1028.000000  1028.000000  1028.000000  1028.000000  1028.000000   \n",
       "mean      0.013162     0.049187     0.014289    -0.020240     0.034696   \n",
       "std       1.006514     0.999463     1.049018     1.022537     1.007566   \n",
       "min      -3.349047    -2.799318    -3.367838    -3.354470    -3.671508   \n",
       "25%      -0.677400    -0.613951    -0.693698    -0.722208    -0.628021   \n",
       "50%      -0.020248     0.057883     0.017838    -0.019787     0.036035   \n",
       "75%       0.702129     0.747609     0.693506     0.656622     0.771299   \n",
       "max       3.052792     3.187692     3.682758     3.528800     2.741806   \n",
       "\n",
       "                10           11           12           13           14  \\\n",
       "count  1028.000000  1028.000000  1028.000000  1028.000000  1028.000000   \n",
       "mean     -0.060485    -0.073064     0.041454    -0.011088    -0.013296   \n",
       "std       1.001820     0.998922     1.032324     1.010323     0.987772   \n",
       "min      -3.272401    -3.120994    -3.137387    -3.329666    -3.407970   \n",
       "25%      -0.752230    -0.772737    -0.644066    -0.715645    -0.649912   \n",
       "50%      -0.048694    -0.046239     0.083283    -0.008074    -0.028727   \n",
       "75%       0.623356     0.574732     0.753247     0.671303     0.669225   \n",
       "max       2.702338     3.462354     3.090535     2.952045     3.104222   \n",
       "\n",
       "                15           16           17           18  \n",
       "count  1028.000000  1028.000000  1028.000000  1028.000000  \n",
       "mean     -0.051014    -0.009988     0.033456    -0.003686  \n",
       "std       0.989427     1.038149     1.024607     1.016641  \n",
       "min      -3.224648    -3.980017    -3.522486    -3.591951  \n",
       "25%      -0.722671    -0.701610    -0.648602    -0.729720  \n",
       "50%      -0.007924     0.000185     0.026750     0.019482  \n",
       "75%       0.593940     0.685390     0.770745     0.655832  \n",
       "max       3.014401     2.943225     3.114902     3.066922  "
      ]
     },
     "metadata": {},
     "execution_count": 396
    }
   ],
   "metadata": {}
  },
  {
   "cell_type": "code",
   "execution_count": 397,
   "source": [
    "sea.heatmap(data.corr(), cmap=\"Greens\")\r\n",
    "data.to_csv('data_set.csv')"
   ],
   "outputs": [
    {
     "output_type": "display_data",
     "data": {
      "image/png": "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",
      "text/plain": [
       "<Figure size 432x288 with 2 Axes>"
      ]
     },
     "metadata": {
      "needs_background": "light"
     }
    }
   ],
   "metadata": {}
  },
  {
   "cell_type": "markdown",
   "source": [
    "### 2. Завантажити набір даних для регресії на сайті (у кожного студента має бути інший - прошу організуватись відповідним чином)"
   ],
   "metadata": {}
  },
  {
   "cell_type": "code",
   "execution_count": 398,
   "source": [
    "data = pd.read_csv('Netflix_stock_history.csv')\r\n",
    "data.head()"
   ],
   "outputs": [
    {
     "output_type": "execute_result",
     "data": {
      "text/html": [
       "<div>\n",
       "<style scoped>\n",
       "    .dataframe tbody tr th:only-of-type {\n",
       "        vertical-align: middle;\n",
       "    }\n",
       "\n",
       "    .dataframe tbody tr th {\n",
       "        vertical-align: top;\n",
       "    }\n",
       "\n",
       "    .dataframe thead th {\n",
       "        text-align: right;\n",
       "    }\n",
       "</style>\n",
       "<table border=\"1\" class=\"dataframe\">\n",
       "  <thead>\n",
       "    <tr style=\"text-align: right;\">\n",
       "      <th></th>\n",
       "      <th>Date</th>\n",
       "      <th>Open</th>\n",
       "      <th>High</th>\n",
       "      <th>Low</th>\n",
       "      <th>Close</th>\n",
       "      <th>Volume</th>\n",
       "      <th>Dividends</th>\n",
       "      <th>Stock Splits</th>\n",
       "    </tr>\n",
       "  </thead>\n",
       "  <tbody>\n",
       "    <tr>\n",
       "      <th>0</th>\n",
       "      <td>2002-05-23</td>\n",
       "      <td>1.156429</td>\n",
       "      <td>1.242857</td>\n",
       "      <td>1.145714</td>\n",
       "      <td>1.196429</td>\n",
       "      <td>104790000</td>\n",
       "      <td>0</td>\n",
       "      <td>0.0</td>\n",
       "    </tr>\n",
       "    <tr>\n",
       "      <th>1</th>\n",
       "      <td>2002-05-24</td>\n",
       "      <td>1.214286</td>\n",
       "      <td>1.225000</td>\n",
       "      <td>1.197143</td>\n",
       "      <td>1.210000</td>\n",
       "      <td>11104800</td>\n",
       "      <td>0</td>\n",
       "      <td>0.0</td>\n",
       "    </tr>\n",
       "    <tr>\n",
       "      <th>2</th>\n",
       "      <td>2002-05-28</td>\n",
       "      <td>1.213571</td>\n",
       "      <td>1.232143</td>\n",
       "      <td>1.157143</td>\n",
       "      <td>1.157143</td>\n",
       "      <td>6609400</td>\n",
       "      <td>0</td>\n",
       "      <td>0.0</td>\n",
       "    </tr>\n",
       "    <tr>\n",
       "      <th>3</th>\n",
       "      <td>2002-05-29</td>\n",
       "      <td>1.164286</td>\n",
       "      <td>1.164286</td>\n",
       "      <td>1.085714</td>\n",
       "      <td>1.103571</td>\n",
       "      <td>6757800</td>\n",
       "      <td>0</td>\n",
       "      <td>0.0</td>\n",
       "    </tr>\n",
       "    <tr>\n",
       "      <th>4</th>\n",
       "      <td>2002-05-30</td>\n",
       "      <td>1.107857</td>\n",
       "      <td>1.107857</td>\n",
       "      <td>1.071429</td>\n",
       "      <td>1.071429</td>\n",
       "      <td>10154200</td>\n",
       "      <td>0</td>\n",
       "      <td>0.0</td>\n",
       "    </tr>\n",
       "  </tbody>\n",
       "</table>\n",
       "</div>"
      ],
      "text/plain": [
       "         Date      Open      High       Low     Close     Volume  Dividends  \\\n",
       "0  2002-05-23  1.156429  1.242857  1.145714  1.196429  104790000          0   \n",
       "1  2002-05-24  1.214286  1.225000  1.197143  1.210000   11104800          0   \n",
       "2  2002-05-28  1.213571  1.232143  1.157143  1.157143    6609400          0   \n",
       "3  2002-05-29  1.164286  1.164286  1.085714  1.103571    6757800          0   \n",
       "4  2002-05-30  1.107857  1.107857  1.071429  1.071429   10154200          0   \n",
       "\n",
       "   Stock Splits  \n",
       "0           0.0  \n",
       "1           0.0  \n",
       "2           0.0  \n",
       "3           0.0  \n",
       "4           0.0  "
      ]
     },
     "metadata": {},
     "execution_count": 398
    }
   ],
   "metadata": {}
  },
  {
   "cell_type": "code",
   "execution_count": 399,
   "source": [
    "data.describe()"
   ],
   "outputs": [
    {
     "output_type": "execute_result",
     "data": {
      "text/html": [
       "<div>\n",
       "<style scoped>\n",
       "    .dataframe tbody tr th:only-of-type {\n",
       "        vertical-align: middle;\n",
       "    }\n",
       "\n",
       "    .dataframe tbody tr th {\n",
       "        vertical-align: top;\n",
       "    }\n",
       "\n",
       "    .dataframe thead th {\n",
       "        text-align: right;\n",
       "    }\n",
       "</style>\n",
       "<table border=\"1\" class=\"dataframe\">\n",
       "  <thead>\n",
       "    <tr style=\"text-align: right;\">\n",
       "      <th></th>\n",
       "      <th>Open</th>\n",
       "      <th>High</th>\n",
       "      <th>Low</th>\n",
       "      <th>Close</th>\n",
       "      <th>Volume</th>\n",
       "      <th>Dividends</th>\n",
       "      <th>Stock Splits</th>\n",
       "    </tr>\n",
       "  </thead>\n",
       "  <tbody>\n",
       "    <tr>\n",
       "      <th>count</th>\n",
       "      <td>4870.000000</td>\n",
       "      <td>4870.000000</td>\n",
       "      <td>4870.000000</td>\n",
       "      <td>4870.000000</td>\n",
       "      <td>4.870000e+03</td>\n",
       "      <td>4870.0</td>\n",
       "      <td>4870.000000</td>\n",
       "    </tr>\n",
       "    <tr>\n",
       "      <th>mean</th>\n",
       "      <td>104.243285</td>\n",
       "      <td>105.833669</td>\n",
       "      <td>102.608072</td>\n",
       "      <td>104.282593</td>\n",
       "      <td>1.682662e+07</td>\n",
       "      <td>0.0</td>\n",
       "      <td>0.001848</td>\n",
       "    </tr>\n",
       "    <tr>\n",
       "      <th>std</th>\n",
       "      <td>155.319234</td>\n",
       "      <td>157.589034</td>\n",
       "      <td>152.978074</td>\n",
       "      <td>155.365529</td>\n",
       "      <td>1.938116e+07</td>\n",
       "      <td>0.0</td>\n",
       "      <td>0.104316</td>\n",
       "    </tr>\n",
       "    <tr>\n",
       "      <th>min</th>\n",
       "      <td>0.377857</td>\n",
       "      <td>0.410714</td>\n",
       "      <td>0.346429</td>\n",
       "      <td>0.372857</td>\n",
       "      <td>2.856000e+05</td>\n",
       "      <td>0.0</td>\n",
       "      <td>0.000000</td>\n",
       "    </tr>\n",
       "    <tr>\n",
       "      <th>25%</th>\n",
       "      <td>3.898214</td>\n",
       "      <td>3.975000</td>\n",
       "      <td>3.833214</td>\n",
       "      <td>3.902500</td>\n",
       "      <td>6.309850e+06</td>\n",
       "      <td>0.0</td>\n",
       "      <td>0.000000</td>\n",
       "    </tr>\n",
       "    <tr>\n",
       "      <th>50%</th>\n",
       "      <td>21.144286</td>\n",
       "      <td>21.406429</td>\n",
       "      <td>20.743572</td>\n",
       "      <td>21.004285</td>\n",
       "      <td>1.085175e+07</td>\n",
       "      <td>0.0</td>\n",
       "      <td>0.000000</td>\n",
       "    </tr>\n",
       "    <tr>\n",
       "      <th>75%</th>\n",
       "      <td>124.975002</td>\n",
       "      <td>126.427502</td>\n",
       "      <td>122.847502</td>\n",
       "      <td>124.797503</td>\n",
       "      <td>2.018555e+07</td>\n",
       "      <td>0.0</td>\n",
       "      <td>0.000000</td>\n",
       "    </tr>\n",
       "    <tr>\n",
       "      <th>max</th>\n",
       "      <td>606.469971</td>\n",
       "      <td>615.599976</td>\n",
       "      <td>596.549988</td>\n",
       "      <td>606.710022</td>\n",
       "      <td>3.234140e+08</td>\n",
       "      <td>0.0</td>\n",
       "      <td>7.000000</td>\n",
       "    </tr>\n",
       "  </tbody>\n",
       "</table>\n",
       "</div>"
      ],
      "text/plain": [
       "              Open         High          Low        Close        Volume  \\\n",
       "count  4870.000000  4870.000000  4870.000000  4870.000000  4.870000e+03   \n",
       "mean    104.243285   105.833669   102.608072   104.282593  1.682662e+07   \n",
       "std     155.319234   157.589034   152.978074   155.365529  1.938116e+07   \n",
       "min       0.377857     0.410714     0.346429     0.372857  2.856000e+05   \n",
       "25%       3.898214     3.975000     3.833214     3.902500  6.309850e+06   \n",
       "50%      21.144286    21.406429    20.743572    21.004285  1.085175e+07   \n",
       "75%     124.975002   126.427502   122.847502   124.797503  2.018555e+07   \n",
       "max     606.469971   615.599976   596.549988   606.710022  3.234140e+08   \n",
       "\n",
       "       Dividends  Stock Splits  \n",
       "count     4870.0   4870.000000  \n",
       "mean         0.0      0.001848  \n",
       "std          0.0      0.104316  \n",
       "min          0.0      0.000000  \n",
       "25%          0.0      0.000000  \n",
       "50%          0.0      0.000000  \n",
       "75%          0.0      0.000000  \n",
       "max          0.0      7.000000  "
      ]
     },
     "metadata": {},
     "execution_count": 399
    }
   ],
   "metadata": {}
  },
  {
   "cell_type": "code",
   "execution_count": 400,
   "source": [
    "data.info()"
   ],
   "outputs": [
    {
     "output_type": "stream",
     "name": "stdout",
     "text": [
      "<class 'pandas.core.frame.DataFrame'>\n",
      "RangeIndex: 4870 entries, 0 to 4869\n",
      "Data columns (total 8 columns):\n",
      " #   Column        Non-Null Count  Dtype  \n",
      "---  ------        --------------  -----  \n",
      " 0   Date          4870 non-null   object \n",
      " 1   Open          4870 non-null   float64\n",
      " 2   High          4870 non-null   float64\n",
      " 3   Low           4870 non-null   float64\n",
      " 4   Close         4870 non-null   float64\n",
      " 5   Volume        4870 non-null   int64  \n",
      " 6   Dividends     4870 non-null   int64  \n",
      " 7   Stock Splits  4870 non-null   float64\n",
      "dtypes: float64(5), int64(2), object(1)\n",
      "memory usage: 304.5+ KB\n"
     ]
    }
   ],
   "metadata": {}
  },
  {
   "cell_type": "code",
   "execution_count": 401,
   "source": [
    "sea.heatmap(data.corr(), cmap=\"inferno\")"
   ],
   "outputs": [
    {
     "output_type": "execute_result",
     "data": {
      "text/plain": [
       "<AxesSubplot:>"
      ]
     },
     "metadata": {},
     "execution_count": 401
    },
    {
     "output_type": "display_data",
     "data": {
      "image/png": "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",
      "text/plain": [
       "<Figure size 432x288 with 2 Axes>"
      ]
     },
     "metadata": {
      "needs_background": "light"
     }
    }
   ],
   "metadata": {}
  },
  {
   "cell_type": "code",
   "execution_count": 402,
   "source": [
    "columns=data.columns\r\n",
    "columns=columns[:6]\r\n",
    "x=data[['Open', 'High', 'Low', 'Close', 'Volume', 'Dividends']]\r\n",
    "y=data[['Stock Splits']]\r\n"
   ],
   "outputs": [],
   "metadata": {}
  },
  {
   "cell_type": "code",
   "execution_count": 403,
   "source": [
    "x_split,x_test,y_split,y_test = train_test_split(x,y,test_size=0.3)"
   ],
   "outputs": [],
   "metadata": {}
  },
  {
   "cell_type": "code",
   "execution_count": 404,
   "source": [
    "regression = LinearRegression()\r\n",
    "regression.fit(x_split,y_split)\r\n",
    "\r\n",
    "y_Hat = regression.predict(x_test)\r\n",
    "\r\n",
    "print(\"================Absolute Error===================\")\r\n",
    "mean_absolute_error(y_test, y_Hat)"
   ],
   "outputs": [
    {
     "output_type": "stream",
     "name": "stdout",
     "text": [
      "================Absolute Error===================\n"
     ]
    },
    {
     "output_type": "execute_result",
     "data": {
      "text/plain": [
       "0.005430214699495179"
      ]
     },
     "metadata": {},
     "execution_count": 404
    }
   ],
   "metadata": {}
  },
  {
   "cell_type": "code",
   "execution_count": 405,
   "source": [
    "print(\"================Squared Error===================\")\r\n",
    "mean_squared_error(y_test, y_Hat)"
   ],
   "outputs": [
    {
     "output_type": "stream",
     "name": "stdout",
     "text": [
      "================Squared Error===================\n"
     ]
    },
    {
     "output_type": "execute_result",
     "data": {
      "text/plain": [
       "0.03352966967109845"
      ]
     },
     "metadata": {},
     "execution_count": 405
    }
   ],
   "metadata": {}
  },
  {
   "cell_type": "code",
   "execution_count": 406,
   "source": [
    "dataFrame = pd.DataFrame(y_test)\r\n",
    "dataFrame['Stock Splits_predicted'] = y_Hat\r\n",
    "dataFrame.head()"
   ],
   "outputs": [
    {
     "output_type": "execute_result",
     "data": {
      "text/html": [
       "<div>\n",
       "<style scoped>\n",
       "    .dataframe tbody tr th:only-of-type {\n",
       "        vertical-align: middle;\n",
       "    }\n",
       "\n",
       "    .dataframe tbody tr th {\n",
       "        vertical-align: top;\n",
       "    }\n",
       "\n",
       "    .dataframe thead th {\n",
       "        text-align: right;\n",
       "    }\n",
       "</style>\n",
       "<table border=\"1\" class=\"dataframe\">\n",
       "  <thead>\n",
       "    <tr style=\"text-align: right;\">\n",
       "      <th></th>\n",
       "      <th>Stock Splits</th>\n",
       "      <th>Stock Splits_predicted</th>\n",
       "    </tr>\n",
       "  </thead>\n",
       "  <tbody>\n",
       "    <tr>\n",
       "      <th>1148</th>\n",
       "      <td>0.0</td>\n",
       "      <td>0.000383</td>\n",
       "    </tr>\n",
       "    <tr>\n",
       "      <th>2474</th>\n",
       "      <td>0.0</td>\n",
       "      <td>0.001182</td>\n",
       "    </tr>\n",
       "    <tr>\n",
       "      <th>4724</th>\n",
       "      <td>0.0</td>\n",
       "      <td>-0.000275</td>\n",
       "    </tr>\n",
       "    <tr>\n",
       "      <th>73</th>\n",
       "      <td>0.0</td>\n",
       "      <td>0.000212</td>\n",
       "    </tr>\n",
       "    <tr>\n",
       "      <th>2533</th>\n",
       "      <td>0.0</td>\n",
       "      <td>0.000752</td>\n",
       "    </tr>\n",
       "  </tbody>\n",
       "</table>\n",
       "</div>"
      ],
      "text/plain": [
       "      Stock Splits  Stock Splits_predicted\n",
       "1148           0.0                0.000383\n",
       "2474           0.0                0.001182\n",
       "4724           0.0               -0.000275\n",
       "73             0.0                0.000212\n",
       "2533           0.0                0.000752"
      ]
     },
     "metadata": {},
     "execution_count": 406
    }
   ],
   "metadata": {}
  },
  {
   "cell_type": "code",
   "execution_count": 407,
   "source": [
    "mat.scatter(dataFrame['Stock Splits'],dataFrame['Stock Splits_predicted'])"
   ],
   "outputs": [
    {
     "output_type": "execute_result",
     "data": {
      "text/plain": [
       "<matplotlib.collections.PathCollection at 0x22f8dde3e50>"
      ]
     },
     "metadata": {},
     "execution_count": 407
    },
    {
     "output_type": "display_data",
     "data": {
      "image/png": "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",
      "text/plain": [
       "<Figure size 432x288 with 1 Axes>"
      ]
     },
     "metadata": {
      "needs_background": "light"
     }
    }
   ],
   "metadata": {}
  },
  {
   "cell_type": "markdown",
   "source": [
    "### 3. (опціонально для отримання відмінної оцінки) Згенерувати набір даних для регресії на основі звичайних можливостей Python"
   ],
   "metadata": {}
  },
  {
   "cell_type": "code",
   "execution_count": 408,
   "source": [
    "age = {0:'<18', 1:'>18'}\r\n",
    "higher_education = {0:'No', 1:'Yes'}\r\n",
    "house = {0:'Dont have', 1:'Have'}\r\n",
    "number_of_certificates = {0:'0', 1:'1', 2: '2', 3: 'More than 3'}\r\n",
    "have_work = {0:'No', 1:'Yes'}\r\n",
    "citizenship = {0:'Ukrainian', 1:'France', 2:'English', 3:'Germany'}\r\n",
    "info = []\r\n",
    "for i in range(0, 256):\r\n",
    "    row = []\r\n",
    "    row.append(age[rnd.randint(0, 1)])\r\n",
    "    row.append(higher_education[rnd.randint(0, 1)])\r\n",
    "    row.append(house[rnd.randint(0, 1)])\r\n",
    "    row.append(number_of_certificates[rnd.randint(0, 3)])\r\n",
    "    row.append(have_work[rnd.randint(0, 1)])\r\n",
    "    row.append(citizenship[rnd.randint(0, 3)])\r\n",
    "    info.append(row)\r\n",
    "data = pd.DataFrame(info, columns=['age', 'higher_education', 'house', 'number_of_certificates', 'have_work', 'citizenthip'])\r\n"
   ],
   "outputs": [],
   "metadata": {}
  },
  {
   "cell_type": "code",
   "execution_count": 409,
   "source": [
    "data.head()"
   ],
   "outputs": [
    {
     "output_type": "execute_result",
     "data": {
      "text/html": [
       "<div>\n",
       "<style scoped>\n",
       "    .dataframe tbody tr th:only-of-type {\n",
       "        vertical-align: middle;\n",
       "    }\n",
       "\n",
       "    .dataframe tbody tr th {\n",
       "        vertical-align: top;\n",
       "    }\n",
       "\n",
       "    .dataframe thead th {\n",
       "        text-align: right;\n",
       "    }\n",
       "</style>\n",
       "<table border=\"1\" class=\"dataframe\">\n",
       "  <thead>\n",
       "    <tr style=\"text-align: right;\">\n",
       "      <th></th>\n",
       "      <th>age</th>\n",
       "      <th>higher_education</th>\n",
       "      <th>house</th>\n",
       "      <th>number_of_certificates</th>\n",
       "      <th>have_work</th>\n",
       "      <th>citizenthip</th>\n",
       "    </tr>\n",
       "  </thead>\n",
       "  <tbody>\n",
       "    <tr>\n",
       "      <th>0</th>\n",
       "      <td>&gt;18</td>\n",
       "      <td>No</td>\n",
       "      <td>Dont have</td>\n",
       "      <td>More than 3</td>\n",
       "      <td>Yes</td>\n",
       "      <td>France</td>\n",
       "    </tr>\n",
       "    <tr>\n",
       "      <th>1</th>\n",
       "      <td>&lt;18</td>\n",
       "      <td>No</td>\n",
       "      <td>Have</td>\n",
       "      <td>1</td>\n",
       "      <td>Yes</td>\n",
       "      <td>Ukrainian</td>\n",
       "    </tr>\n",
       "    <tr>\n",
       "      <th>2</th>\n",
       "      <td>&gt;18</td>\n",
       "      <td>No</td>\n",
       "      <td>Have</td>\n",
       "      <td>0</td>\n",
       "      <td>No</td>\n",
       "      <td>France</td>\n",
       "    </tr>\n",
       "    <tr>\n",
       "      <th>3</th>\n",
       "      <td>&gt;18</td>\n",
       "      <td>Yes</td>\n",
       "      <td>Dont have</td>\n",
       "      <td>More than 3</td>\n",
       "      <td>Yes</td>\n",
       "      <td>France</td>\n",
       "    </tr>\n",
       "    <tr>\n",
       "      <th>4</th>\n",
       "      <td>&gt;18</td>\n",
       "      <td>Yes</td>\n",
       "      <td>Dont have</td>\n",
       "      <td>More than 3</td>\n",
       "      <td>Yes</td>\n",
       "      <td>English</td>\n",
       "    </tr>\n",
       "  </tbody>\n",
       "</table>\n",
       "</div>"
      ],
      "text/plain": [
       "   age higher_education      house number_of_certificates have_work  \\\n",
       "0  >18               No  Dont have            More than 3       Yes   \n",
       "1  <18               No       Have                      1       Yes   \n",
       "2  >18               No       Have                      0        No   \n",
       "3  >18              Yes  Dont have            More than 3       Yes   \n",
       "4  >18              Yes  Dont have            More than 3       Yes   \n",
       "\n",
       "  citizenthip  \n",
       "0      France  \n",
       "1   Ukrainian  \n",
       "2      France  \n",
       "3      France  \n",
       "4     English  "
      ]
     },
     "metadata": {},
     "execution_count": 409
    }
   ],
   "metadata": {}
  },
  {
   "cell_type": "code",
   "execution_count": 410,
   "source": [
    "data.replace({'<18': 0, '>18':1, 'No': 0, 'Yes':1, 'Dont have':0, 'Have':1, '0':0, '1':1, '2':2, 'More than 3':3, 'No':0, 'Yes':1, 'Ukrainian': 0\r\n",
    ", 'France':1, 'English':2, 'Germany':3}, None, True)\r\n",
    "\r\n",
    "data.to_csv('data_set2.csv')"
   ],
   "outputs": [],
   "metadata": {}
  },
  {
   "cell_type": "code",
   "execution_count": 411,
   "source": [
    "data.info()"
   ],
   "outputs": [
    {
     "output_type": "stream",
     "name": "stdout",
     "text": [
      "<class 'pandas.core.frame.DataFrame'>\n",
      "RangeIndex: 256 entries, 0 to 255\n",
      "Data columns (total 6 columns):\n",
      " #   Column                  Non-Null Count  Dtype\n",
      "---  ------                  --------------  -----\n",
      " 0   age                     256 non-null    int64\n",
      " 1   higher_education        256 non-null    int64\n",
      " 2   house                   256 non-null    int64\n",
      " 3   number_of_certificates  256 non-null    int64\n",
      " 4   have_work               256 non-null    int64\n",
      " 5   citizenthip             256 non-null    int64\n",
      "dtypes: int64(6)\n",
      "memory usage: 12.1 KB\n"
     ]
    }
   ],
   "metadata": {}
  },
  {
   "cell_type": "code",
   "execution_count": 412,
   "source": [
    "data.describe()"
   ],
   "outputs": [
    {
     "output_type": "execute_result",
     "data": {
      "text/html": [
       "<div>\n",
       "<style scoped>\n",
       "    .dataframe tbody tr th:only-of-type {\n",
       "        vertical-align: middle;\n",
       "    }\n",
       "\n",
       "    .dataframe tbody tr th {\n",
       "        vertical-align: top;\n",
       "    }\n",
       "\n",
       "    .dataframe thead th {\n",
       "        text-align: right;\n",
       "    }\n",
       "</style>\n",
       "<table border=\"1\" class=\"dataframe\">\n",
       "  <thead>\n",
       "    <tr style=\"text-align: right;\">\n",
       "      <th></th>\n",
       "      <th>age</th>\n",
       "      <th>higher_education</th>\n",
       "      <th>house</th>\n",
       "      <th>number_of_certificates</th>\n",
       "      <th>have_work</th>\n",
       "      <th>citizenthip</th>\n",
       "    </tr>\n",
       "  </thead>\n",
       "  <tbody>\n",
       "    <tr>\n",
       "      <th>count</th>\n",
       "      <td>256.000000</td>\n",
       "      <td>256.000000</td>\n",
       "      <td>256.000000</td>\n",
       "      <td>256.000000</td>\n",
       "      <td>256.000000</td>\n",
       "      <td>256.000000</td>\n",
       "    </tr>\n",
       "    <tr>\n",
       "      <th>mean</th>\n",
       "      <td>0.500000</td>\n",
       "      <td>0.500000</td>\n",
       "      <td>0.441406</td>\n",
       "      <td>1.542969</td>\n",
       "      <td>0.480469</td>\n",
       "      <td>1.324219</td>\n",
       "    </tr>\n",
       "    <tr>\n",
       "      <th>std</th>\n",
       "      <td>0.500979</td>\n",
       "      <td>0.500979</td>\n",
       "      <td>0.497528</td>\n",
       "      <td>1.136778</td>\n",
       "      <td>0.500597</td>\n",
       "      <td>1.051777</td>\n",
       "    </tr>\n",
       "    <tr>\n",
       "      <th>min</th>\n",
       "      <td>0.000000</td>\n",
       "      <td>0.000000</td>\n",
       "      <td>0.000000</td>\n",
       "      <td>0.000000</td>\n",
       "      <td>0.000000</td>\n",
       "      <td>0.000000</td>\n",
       "    </tr>\n",
       "    <tr>\n",
       "      <th>25%</th>\n",
       "      <td>0.000000</td>\n",
       "      <td>0.000000</td>\n",
       "      <td>0.000000</td>\n",
       "      <td>1.000000</td>\n",
       "      <td>0.000000</td>\n",
       "      <td>0.000000</td>\n",
       "    </tr>\n",
       "    <tr>\n",
       "      <th>50%</th>\n",
       "      <td>0.500000</td>\n",
       "      <td>0.500000</td>\n",
       "      <td>0.000000</td>\n",
       "      <td>2.000000</td>\n",
       "      <td>0.000000</td>\n",
       "      <td>1.000000</td>\n",
       "    </tr>\n",
       "    <tr>\n",
       "      <th>75%</th>\n",
       "      <td>1.000000</td>\n",
       "      <td>1.000000</td>\n",
       "      <td>1.000000</td>\n",
       "      <td>3.000000</td>\n",
       "      <td>1.000000</td>\n",
       "      <td>2.000000</td>\n",
       "    </tr>\n",
       "    <tr>\n",
       "      <th>max</th>\n",
       "      <td>1.000000</td>\n",
       "      <td>1.000000</td>\n",
       "      <td>1.000000</td>\n",
       "      <td>3.000000</td>\n",
       "      <td>1.000000</td>\n",
       "      <td>3.000000</td>\n",
       "    </tr>\n",
       "  </tbody>\n",
       "</table>\n",
       "</div>"
      ],
      "text/plain": [
       "              age  higher_education       house  number_of_certificates  \\\n",
       "count  256.000000        256.000000  256.000000              256.000000   \n",
       "mean     0.500000          0.500000    0.441406                1.542969   \n",
       "std      0.500979          0.500979    0.497528                1.136778   \n",
       "min      0.000000          0.000000    0.000000                0.000000   \n",
       "25%      0.000000          0.000000    0.000000                1.000000   \n",
       "50%      0.500000          0.500000    0.000000                2.000000   \n",
       "75%      1.000000          1.000000    1.000000                3.000000   \n",
       "max      1.000000          1.000000    1.000000                3.000000   \n",
       "\n",
       "        have_work  citizenthip  \n",
       "count  256.000000   256.000000  \n",
       "mean     0.480469     1.324219  \n",
       "std      0.500597     1.051777  \n",
       "min      0.000000     0.000000  \n",
       "25%      0.000000     0.000000  \n",
       "50%      0.000000     1.000000  \n",
       "75%      1.000000     2.000000  \n",
       "max      1.000000     3.000000  "
      ]
     },
     "metadata": {},
     "execution_count": 412
    }
   ],
   "metadata": {}
  },
  {
   "cell_type": "code",
   "execution_count": 413,
   "source": [
    "sea.heatmap(data.corr(), cmap=\"magma\")"
   ],
   "outputs": [
    {
     "output_type": "execute_result",
     "data": {
      "text/plain": [
       "<AxesSubplot:>"
      ]
     },
     "metadata": {},
     "execution_count": 413
    },
    {
     "output_type": "display_data",
     "data": {
      "image/png": "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",
      "text/plain": [
       "<Figure size 432x288 with 2 Axes>"
      ]
     },
     "metadata": {
      "needs_background": "light"
     }
    }
   ],
   "metadata": {}
  },
  {
   "cell_type": "code",
   "execution_count": 414,
   "source": [
    "columns=data.columns\r\n",
    "columns=columns[:7]\r\n",
    "x=data[['age', 'higher_education', 'house', 'number_of_certificates', 'have_work']]\r\n",
    "y=data[['citizenthip']]"
   ],
   "outputs": [],
   "metadata": {}
  },
  {
   "cell_type": "code",
   "execution_count": 415,
   "source": [
    "x_train,x_test,y_train,y_test = train_test_split(x,y,test_size=0.3)"
   ],
   "outputs": [],
   "metadata": {}
  },
  {
   "cell_type": "code",
   "execution_count": 416,
   "source": [
    "regression = LinearRegression()\r\n",
    "regression.fit(x_train,y_train)\r\n",
    "y_Hat = regression.predict(x_test)\r\n"
   ],
   "outputs": [],
   "metadata": {}
  },
  {
   "cell_type": "code",
   "execution_count": 417,
   "source": [
    "print(\"================Abcolute Error===================\")\r\n",
    "mean_absolute_error(y_test, y_Hat)"
   ],
   "outputs": [
    {
     "output_type": "stream",
     "name": "stdout",
     "text": [
      "================Abcolute Error===================\n"
     ]
    },
    {
     "output_type": "execute_result",
     "data": {
      "text/plain": [
       "1.0575797548500134"
      ]
     },
     "metadata": {},
     "execution_count": 417
    }
   ],
   "metadata": {}
  },
  {
   "cell_type": "code",
   "execution_count": 418,
   "source": [
    "print(\"================Absolute Error===================\")\r\n",
    "mean_squared_error(y_test, y_Hat)"
   ],
   "outputs": [
    {
     "output_type": "stream",
     "name": "stdout",
     "text": [
      "================Absolute Error===================\n"
     ]
    },
    {
     "output_type": "execute_result",
     "data": {
      "text/plain": [
       "1.4203710751015222"
      ]
     },
     "metadata": {},
     "execution_count": 418
    }
   ],
   "metadata": {}
  },
  {
   "cell_type": "code",
   "execution_count": 419,
   "source": [
    "res = pd.DataFrame(y_test)\r\n",
    "res['citizenthip_predicted'] = y_Hat\r\n",
    "\r\n",
    "res.head()"
   ],
   "outputs": [
    {
     "output_type": "execute_result",
     "data": {
      "text/html": [
       "<div>\n",
       "<style scoped>\n",
       "    .dataframe tbody tr th:only-of-type {\n",
       "        vertical-align: middle;\n",
       "    }\n",
       "\n",
       "    .dataframe tbody tr th {\n",
       "        vertical-align: top;\n",
       "    }\n",
       "\n",
       "    .dataframe thead th {\n",
       "        text-align: right;\n",
       "    }\n",
       "</style>\n",
       "<table border=\"1\" class=\"dataframe\">\n",
       "  <thead>\n",
       "    <tr style=\"text-align: right;\">\n",
       "      <th></th>\n",
       "      <th>citizenthip</th>\n",
       "      <th>citizenthip_predicted</th>\n",
       "    </tr>\n",
       "  </thead>\n",
       "  <tbody>\n",
       "    <tr>\n",
       "      <th>143</th>\n",
       "      <td>0</td>\n",
       "      <td>1.417267</td>\n",
       "    </tr>\n",
       "    <tr>\n",
       "      <th>60</th>\n",
       "      <td>2</td>\n",
       "      <td>1.148736</td>\n",
       "    </tr>\n",
       "    <tr>\n",
       "      <th>137</th>\n",
       "      <td>1</td>\n",
       "      <td>1.048255</td>\n",
       "    </tr>\n",
       "    <tr>\n",
       "      <th>222</th>\n",
       "      <td>1</td>\n",
       "      <td>1.386978</td>\n",
       "    </tr>\n",
       "    <tr>\n",
       "      <th>116</th>\n",
       "      <td>0</td>\n",
       "      <td>1.205305</td>\n",
       "    </tr>\n",
       "  </tbody>\n",
       "</table>\n",
       "</div>"
      ],
      "text/plain": [
       "     citizenthip  citizenthip_predicted\n",
       "143            0               1.417267\n",
       "60             2               1.148736\n",
       "137            1               1.048255\n",
       "222            1               1.386978\n",
       "116            0               1.205305"
      ]
     },
     "metadata": {},
     "execution_count": 419
    }
   ],
   "metadata": {}
  },
  {
   "cell_type": "code",
   "execution_count": 420,
   "source": [
    "mat.scatter(res['citizenthip'],res['citizenthip_predicted'])"
   ],
   "outputs": [
    {
     "output_type": "execute_result",
     "data": {
      "text/plain": [
       "<matplotlib.collections.PathCollection at 0x22f91268bb0>"
      ]
     },
     "metadata": {},
     "execution_count": 420
    },
    {
     "output_type": "display_data",
     "data": {
      "image/png": "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",
      "text/plain": [
       "<Figure size 432x288 with 1 Axes>"
      ]
     },
     "metadata": {
      "needs_background": "light"
     }
    }
   ],
   "metadata": {}
  }
 ],
 "metadata": {
  "orig_nbformat": 4,
  "language_info": {
   "name": "python",
   "version": "3.8.8",
   "mimetype": "text/x-python",
   "codemirror_mode": {
    "name": "ipython",
    "version": 3
   },
   "pygments_lexer": "ipython3",
   "nbconvert_exporter": "python",
   "file_extension": ".py"
  },
  "kernelspec": {
   "name": "python3",
   "display_name": "Python 3.8.8 64-bit ('base': conda)"
  },
  "interpreter": {
   "hash": "6d23dc9fb1536bab160869117775d27c3762152735adc7865e12ca8aac17ccc9"
  }
 },
 "nbformat": 4,
 "nbformat_minor": 2
}
