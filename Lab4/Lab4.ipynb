{
 "cells": [
  {
   "cell_type": "markdown",
   "metadata": {},
   "source": [
    "# Лабораторна робота №4\n",
    "## Студента групи МІТ-31 (підгрупа 2)\n",
    "## Фітя Владислава Тарасовича"
   ]
  },
  {
   "cell_type": "markdown",
   "metadata": {},
   "source": [
    "# Завдання\n",
    "1.  Здійснити загальні операції з використанням TensorFlow (створити набір даних (розмір за власним рішенням) у вигляді тензорів, провести CRUD операції над даними (скаляр, вектор, матриця)).\n",
    "\n",
    "2.  Згенерувати набір даних для регресії та класифікації з використанням TensorFlow\n",
    "\n",
    "3.  Здійснити графічний аналіз наборів даних за допомогою Matplotlib\n",
    "\n",
    "4.  Відповіді оформити .ipynb документом\n",
    "\n",
    "5.  Викласти у зазначений репозіторій GitHub в окремій папці з назвою Lab4 де має бути .ipynb файл та необхідні файли з даними"
   ]
  },
  {
   "cell_type": "code",
   "execution_count": 41,
   "metadata": {},
   "outputs": [],
   "source": [
    "import tensorflow as tf\n",
    "import matplotlib.pyplot as plt\n",
    "import numpy as np\n",
    "import pandas as pd\n",
    "from sklearn.datasets import make_circles"
   ]
  },
  {
   "cell_type": "code",
   "execution_count": 5,
   "metadata": {},
   "outputs": [
    {
     "name": "stdout",
     "output_type": "stream",
     "text": [
      "Scalar: tf.Tensor(19, shape=(), dtype=int32)\n",
      "Vector: tf.Tensor([ 2. 14. 45.], shape=(3,), dtype=float32)\n",
      "Matrix: tf.Tensor(\n",
      "[[13  5]\n",
      " [ 8  3]\n",
      " [19  5]\n",
      " [ 9 15]], shape=(4, 2), dtype=int32)\n"
     ]
    }
   ],
   "source": [
    "Scalar = tf.constant(19)\n",
    "Vector = tf.constant([2.0, 14, 45])\n",
    "Matrix = tf.constant([[13, 5], [8, 3], [19, 5], [9, 15]])\n",
    "print('Scalar:' , Scalar)\n",
    "print('Vector:', Vector)\n",
    "print('Matrix:', Matrix)"
   ]
  },
  {
   "cell_type": "code",
   "execution_count": 6,
   "metadata": {},
   "outputs": [],
   "source": [
    "random1 = tf.random.Generator.from_seed(2) \n",
    "random1 = random1.normal(shape=(2, 5))\n",
    "\n",
    "random2 = tf.random.Generator.from_seed(2)\n",
    "random2 = random2.normal(shape=(2, 5))"
   ]
  },
  {
   "cell_type": "code",
   "execution_count": 8,
   "metadata": {},
   "outputs": [
    {
     "name": "stdout",
     "output_type": "stream",
     "text": [
      "Ones: tf.Tensor(\n",
      "[[1. 1. 1. 1. 1. 1. 1. 1. 1.]\n",
      " [1. 1. 1. 1. 1. 1. 1. 1. 1.]\n",
      " [1. 1. 1. 1. 1. 1. 1. 1. 1.]], shape=(3, 9), dtype=float32)\n",
      "Zeros: tf.Tensor(\n",
      "[[[0. 0. 0. 0.]\n",
      "  [0. 0. 0. 0.]]], shape=(1, 2, 4), dtype=float32)\n"
     ]
    }
   ],
   "source": [
    "Ones = tf.ones([3, 9])\n",
    "Zeros = tf.zeros(shape=(1,2,4))\n",
    "print('Ones:', Ones)\n",
    "print('Zeros:', Zeros)"
   ]
  },
  {
   "cell_type": "code",
   "execution_count": 9,
   "metadata": {},
   "outputs": [
    {
     "data": {
      "text/plain": [
       "<tf.Variable 'UnreadVariable' shape=(2,) dtype=int32, numpy=array([12, 12])>"
      ]
     },
     "execution_count": 9,
     "metadata": {},
     "output_type": "execute_result"
    }
   ],
   "source": [
    "changeable_tensor = tf.Variable([5, 12])\n",
    "unchangeable_tensor = tf.constant([5, 12])\n",
    "\n",
    "changeable_tensor[0].assign(12)"
   ]
  },
  {
   "cell_type": "code",
   "execution_count": 10,
   "metadata": {},
   "outputs": [
    {
     "name": "stdout",
     "output_type": "stream",
     "text": [
      "tf.Tensor(\n",
      "[[-0.1012345  -0.2744976   1.4204658   1.2609464  -0.43640924]\n",
      " [-1.9633987  -0.06452483 -1.056841    1.0019137   0.6735137 ]], shape=(2, 5), dtype=float32)\n",
      "tf.Tensor(\n",
      "[[-0.1012345  -0.2744976   1.4204658   1.2609464  -0.43640924]\n",
      " [-1.9633987  -0.06452483 -1.056841    1.0019137   0.6735137 ]], shape=(2, 5), dtype=float32)\n"
     ]
    }
   ],
   "source": [
    "random3 = tf.random.Generator.from_seed(2) \n",
    "random3 = random3.normal(shape=(2, 5))\n",
    "print(random3)\n",
    "\n",
    "tf.random.set_seed(13)\n",
    "tf.random.shuffle(random3, seed=13)\n",
    "print(random3)"
   ]
  },
  {
   "cell_type": "code",
   "execution_count": 14,
   "metadata": {},
   "outputs": [
    {
     "data": {
      "text/plain": [
       "<tf.Tensor: shape=(1, 3, 4, 5), dtype=float32, numpy=\n",
       "array([[[[0., 0., 0., 0., 0.],\n",
       "         [0., 0., 0., 0., 0.],\n",
       "         [0., 0., 0., 0., 0.],\n",
       "         [0., 0., 0., 0., 0.]],\n",
       "\n",
       "        [[0., 0., 0., 0., 0.],\n",
       "         [0., 0., 0., 0., 0.],\n",
       "         [0., 0., 0., 0., 0.],\n",
       "         [0., 0., 0., 0., 0.]],\n",
       "\n",
       "        [[0., 0., 0., 0., 0.],\n",
       "         [0., 0., 0., 0., 0.],\n",
       "         [0., 0., 0., 0., 0.],\n",
       "         [0., 0., 0., 0., 0.]]]], dtype=float32)>"
      ]
     },
     "execution_count": 14,
     "metadata": {},
     "output_type": "execute_result"
    }
   ],
   "source": [
    "rank4_tensor = tf.zeros(shape=[1, 3, 4, 5])\n",
    "\n",
    "rank4_tensor"
   ]
  },
  {
   "cell_type": "code",
   "execution_count": 16,
   "metadata": {},
   "outputs": [
    {
     "name": "stdout",
     "output_type": "stream",
     "text": [
      "Number of dimensions: 4\n",
      "Total number of elements in our tensor: 60\n",
      "Total number of elements in our tensor: tf.Tensor(60, shape=(), dtype=int32)\n",
      "Elements along the last axis: 5\n",
      "Shape of tensor: (1, 3, 4, 5)\n",
      "Datatype of every element: <dtype: 'float32'>\n",
      "Elements along the 0 axis: 1\n"
     ]
    }
   ],
   "source": [
    "rank4_tensor.shape, rank4_tensor.ndim, tf.size(rank4_tensor)\n",
    "print(\"Number of dimensions:\", rank4_tensor.ndim)\n",
    "print(\"Total number of elements in our tensor:\", tf.size(rank4_tensor).numpy())\n",
    "print(\"Total number of elements in our tensor:\", tf.size(rank4_tensor))\n",
    "print(\"Elements along the last axis:\", rank4_tensor.shape[-1])\n",
    "print(\"Shape of tensor:\", rank4_tensor.shape)\n",
    "print(\"Datatype of every element:\", rank4_tensor.dtype)\n",
    "print(\"Elements along the 0 axis:\", rank4_tensor.shape[0])"
   ]
  },
  {
   "cell_type": "code",
   "execution_count": 29,
   "metadata": {},
   "outputs": [
    {
     "name": "stdout",
     "output_type": "stream",
     "text": [
      "tf.Tensor(\n",
      "[[15  7]\n",
      " [10  5]\n",
      " [21  7]\n",
      " [11 17]], shape=(4, 2), dtype=int32) tf.Tensor(\n",
      "[[65 25]\n",
      " [40 15]\n",
      " [95 25]\n",
      " [45 75]], shape=(4, 2), dtype=int32) tf.Tensor(\n",
      "[[ 8  0]\n",
      " [ 3 -2]\n",
      " [14  0]\n",
      " [ 4 10]], shape=(4, 2), dtype=int32)\n",
      "tf.Tensor(\n",
      "[[26 10]\n",
      " [16  6]\n",
      " [38 10]\n",
      " [18 30]], shape=(4, 2), dtype=int32)\n"
     ]
    }
   ],
   "source": [
    "print(Matrix + 2, Matrix * 5, Matrix - 5)\n",
    "print(tf.multiply(Matrix, 2))"
   ]
  },
  {
   "cell_type": "code",
   "execution_count": 30,
   "metadata": {},
   "outputs": [],
   "source": [
    "def tf_delete(tensor,index,row=True):\n",
    "    \n",
    "    if row:\n",
    "        sub = list(range(tensor.shape[0]))\n",
    "    else:\n",
    "        sub = list(range(tensor.shape[1]))\n",
    "    sub.pop(index)\n",
    "    \n",
    "    if row:\n",
    "        return  tf.gather(tensor,sub)\n",
    "    return tf.transpose(tf.gather(tf.transpose(tensor),sub))\n",
    "    "
   ]
  },
  {
   "cell_type": "code",
   "execution_count": 32,
   "metadata": {},
   "outputs": [
    {
     "name": "stdout",
     "output_type": "stream",
     "text": [
      "tf.Tensor(\n",
      "[[13  5]\n",
      " [ 8  3]\n",
      " [19  5]\n",
      " [ 9 15]], shape=(4, 2), dtype=int32)\n",
      "tf.Tensor(\n",
      "[[13  5]\n",
      " [ 8  3]\n",
      " [19  5]\n",
      " [ 9 15]], shape=(4, 2), dtype=int32)\n",
      "tf.Tensor(\n",
      "[[13  5]\n",
      " [ 8  3]\n",
      " [19  5]\n",
      " [ 9 15]], shape=(4, 2), dtype=int32)\n"
     ]
    }
   ],
   "source": [
    "print(Matrix)\n",
    "matrix = tf_delete(Matrix,1,row=True)\n",
    "print(Matrix)\n",
    "matrix = tf_delete(Matrix,1,row=False)\n",
    "print(Matrix)"
   ]
  },
  {
   "cell_type": "code",
   "execution_count": 35,
   "metadata": {},
   "outputs": [
    {
     "data": {
      "image/png": "[encoded data removed]",
      "text/plain": [
       "<Figure size 432x288 with 1 Axes>"
      ]
     },
     "metadata": {
      "needs_background": "light"
     },
     "output_type": "display_data"
    }
   ],
   "source": [
    "basic_laptop = tf.constant([\"mouse\", \"camera\", \"processor\", \"graphic card\", \"charger\"])\n",
    "laptop_price = tf.constant([13550])\n",
    "basic_laptop, laptop_price\n",
    "\n",
    "X = np.array([-3.0, 0.0, 3.0, 6.0, 9.0, 12.0, 15.0, 18.0])\n",
    "y = np.array([7.0, 10.0, 13.0, 16.0, 19.0, 22.0, 25.0, 28.0])\n",
    "plt.scatter(X, y)\n",
    "input_shape = X[0].shape \n",
    "output_shape = y[0].shape"
   ]
  },
  {
   "cell_type": "code",
   "execution_count": 36,
   "metadata": {},
   "outputs": [],
   "source": [
    "X_train = X[:8]\n",
    "y_train = y[:8]\n",
    "\n",
    "X_test = X[0:]\n",
    "y_test = y[0:]"
   ]
  },
  {
   "cell_type": "code",
   "execution_count": 39,
   "metadata": {},
   "outputs": [
    {
     "name": "stdout",
     "output_type": "stream",
     "text": [
      "Epoch 1/5\n",
      "1/1 [==============================] - 0s 388ms/step - loss: 14.9443 - mae: 14.9443\n",
      "Epoch 2/5\n",
      "1/1 [==============================] - 0s 3ms/step - loss: 14.3718 - mae: 14.3718\n",
      "Epoch 3/5\n",
      "1/1 [==============================] - 0s 5ms/step - loss: 13.7993 - mae: 13.7993\n",
      "Epoch 4/5\n",
      "1/1 [==============================] - 0s 2ms/step - loss: 13.2268 - mae: 13.2268\n",
      "Epoch 5/5\n",
      "1/1 [==============================] - 0s 3ms/step - loss: 12.6543 - mae: 12.6543\n"
     ]
    },
    {
     "data": {
      "text/plain": [
       "array([[11.5021305]], dtype=float32)"
      ]
     },
     "execution_count": 39,
     "metadata": {},
     "output_type": "execute_result"
    }
   ],
   "source": [
    "tf.random.set_seed(13)\n",
    "\n",
    "model = tf.keras.Sequential([tf.keras.layers.Dense(1)])\n",
    "model.compile(loss=tf.keras.losses.mae, optimizer=tf.keras.optimizers.SGD(), metrics=[\"mae\"])\n",
    "model.fit(X, y, epochs=5)\n",
    "model.predict([16.0])"
   ]
  },
  {
   "cell_type": "code",
   "execution_count": 42,
   "metadata": {},
   "outputs": [
    {
     "data": {
      "text/plain": [
       "((1900, 2), (1900,))"
      ]
     },
     "execution_count": 42,
     "metadata": {},
     "output_type": "execute_result"
    }
   ],
   "source": [
    "n_samples = 1900\n",
    "X, y = make_circles(n_samples, noise=0.03, random_state=13)\n",
    "X.shape, y.shape"
   ]
  },
  {
   "cell_type": "code",
   "execution_count": 43,
   "metadata": {},
   "outputs": [
    {
     "name": "stdout",
     "output_type": "stream",
     "text": [
      "Epoch 1/5\n",
      "60/60 [==============================] - 0s 1ms/step - loss: 6.4965 - accuracy: 0.5074\n",
      "Epoch 2/5\n",
      "60/60 [==============================] - 0s 3ms/step - loss: 7.7125 - accuracy: 0.5000\n",
      "Epoch 3/5\n",
      "60/60 [==============================] - 0s 905us/step - loss: 7.7125 - accuracy: 0.5000\n",
      "Epoch 4/5\n",
      "60/60 [==============================] - 0s 2ms/step - loss: 7.7125 - accuracy: 0.5000\n",
      "Epoch 5/5\n",
      "60/60 [==============================] - 0s 2ms/step - loss: 7.7125 - accuracy: 0.5000\n",
      "60/60 [==============================] - 0s 584us/step - loss: 7.7125 - accuracy: 0.5000\n"
     ]
    },
    {
     "data": {
      "text/plain": [
       "[7.712473392486572, 0.5]"
      ]
     },
     "execution_count": 43,
     "metadata": {},
     "output_type": "execute_result"
    }
   ],
   "source": [
    "tf.random.set_seed(13)\n",
    "\n",
    "model_1 = tf.keras.Sequential([tf.keras.layers.Dense(1)])\n",
    "\n",
    "model_1.compile(loss=tf.keras.losses.BinaryCrossentropy(), optimizer=tf.keras.optimizers.SGD(), metrics=['accuracy'])\n",
    "model_1.fit(X, y, epochs=5)\n",
    "model_1.fit(X, y, epochs=200, verbose=0)\n",
    "model_1.evaluate(X, y)"
   ]
  },
  {
   "cell_type": "code",
   "execution_count": 44,
   "metadata": {},
   "outputs": [
    {
     "name": "stdout",
     "output_type": "stream",
     "text": [
      "Epoch 1/100\n",
      "1/1 [==============================] - 1s 716ms/step - loss: 40.6914 - accuracy: 0.0000e+00\n",
      "Epoch 2/100\n",
      "1/1 [==============================] - 0s 6ms/step - loss: 40.6574 - accuracy: 0.0000e+00\n",
      "Epoch 3/100\n",
      "1/1 [==============================] - 0s 999us/step - loss: 40.6193 - accuracy: 0.0000e+00\n",
      "Epoch 4/100\n",
      "1/1 [==============================] - 0s 3ms/step - loss: 40.5765 - accuracy: 0.0000e+00\n",
      "Epoch 5/100\n",
      "1/1 [==============================] - 0s 5ms/step - loss: 40.5286 - accuracy: 0.0000e+00\n",
      "Epoch 6/100\n",
      "1/1 [==============================] - 0s 3ms/step - loss: 40.4748 - accuracy: 0.0000e+00\n",
      "Epoch 7/100\n",
      "1/1 [==============================] - 0s 4ms/step - loss: 40.4144 - accuracy: 0.0000e+00\n",
      "Epoch 8/100\n",
      "1/1 [==============================] - 0s 4ms/step - loss: 40.3468 - accuracy: 0.0000e+00\n",
      "Epoch 9/100\n",
      "1/1 [==============================] - 0s 3ms/step - loss: 40.2710 - accuracy: 0.0000e+00\n",
      "Epoch 10/100\n",
      "1/1 [==============================] - 0s 3ms/step - loss: 40.1859 - accuracy: 0.0000e+00\n",
      "Epoch 11/100\n",
      "1/1 [==============================] - 0s 6ms/step - loss: 40.0906 - accuracy: 0.0000e+00\n",
      "Epoch 12/100\n",
      "1/1 [==============================] - 0s 3ms/step - loss: 39.9838 - accuracy: 0.0000e+00\n",
      "Epoch 13/100\n",
      "1/1 [==============================] - 0s 4ms/step - loss: 39.8640 - accuracy: 0.0000e+00\n",
      "Epoch 14/100\n",
      "1/1 [==============================] - 0s 7ms/step - loss: 39.7299 - accuracy: 0.0000e+00\n",
      "Epoch 15/100\n",
      "1/1 [==============================] - 0s 9ms/step - loss: 39.5796 - accuracy: 0.0000e+00\n",
      "Epoch 16/100\n",
      "1/1 [==============================] - 0s 3ms/step - loss: 39.4113 - accuracy: 0.0000e+00\n",
      "Epoch 17/100\n",
      "1/1 [==============================] - 0s 2ms/step - loss: 39.2227 - accuracy: 0.0000e+00\n",
      "Epoch 18/100\n",
      "1/1 [==============================] - 0s 6ms/step - loss: 39.0117 - accuracy: 0.0000e+00\n",
      "Epoch 19/100\n",
      "1/1 [==============================] - 0s 9ms/step - loss: 38.7760 - accuracy: 0.0000e+00\n",
      "Epoch 20/100\n",
      "1/1 [==============================] - 0s 7ms/step - loss: 38.5115 - accuracy: 0.0000e+00\n",
      "Epoch 21/100\n",
      "1/1 [==============================] - 0s 3ms/step - loss: 38.2163 - accuracy: 0.0000e+00\n",
      "Epoch 22/100\n",
      "1/1 [==============================] - 0s 11ms/step - loss: 37.8862 - accuracy: 0.0000e+00\n",
      "Epoch 23/100\n",
      "1/1 [==============================] - 0s 15ms/step - loss: 37.5173 - accuracy: 0.0000e+00\n",
      "Epoch 24/100\n",
      "1/1 [==============================] - 0s 9ms/step - loss: 37.1054 - accuracy: 0.0000e+00\n",
      "Epoch 25/100\n",
      "1/1 [==============================] - 0s 3ms/step - loss: 36.6456 - accuracy: 0.0000e+00\n",
      "Epoch 26/100\n",
      "1/1 [==============================] - 0s 3ms/step - loss: 36.1327 - accuracy: 0.0000e+00\n",
      "Epoch 27/100\n",
      "1/1 [==============================] - 0s 3ms/step - loss: 35.5611 - accuracy: 0.0000e+00\n",
      "Epoch 28/100\n",
      "1/1 [==============================] - 0s 7ms/step - loss: 34.9246 - accuracy: 0.0000e+00\n",
      "Epoch 29/100\n",
      "1/1 [==============================] - 0s 3ms/step - loss: 34.2165 - accuracy: 0.0000e+00\n",
      "Epoch 30/100\n",
      "1/1 [==============================] - 0s 7ms/step - loss: 33.4297 - accuracy: 0.0000e+00\n",
      "Epoch 31/100\n",
      "1/1 [==============================] - 0s 4ms/step - loss: 32.5564 - accuracy: 0.0000e+00\n",
      "Epoch 32/100\n",
      "1/1 [==============================] - 0s 3ms/step - loss: 31.5873 - accuracy: 0.0000e+00\n",
      "Epoch 33/100\n",
      "1/1 [==============================] - 0s 4ms/step - loss: 30.5133 - accuracy: 0.0000e+00\n",
      "Epoch 34/100\n",
      "1/1 [==============================] - 0s 5ms/step - loss: 29.3265 - accuracy: 0.0000e+00\n",
      "Epoch 35/100\n",
      "1/1 [==============================] - 0s 10ms/step - loss: 28.0119 - accuracy: 0.0000e+00\n",
      "Epoch 36/100\n",
      "1/1 [==============================] - 0s 2ms/step - loss: 26.5532 - accuracy: 0.0000e+00\n",
      "Epoch 37/100\n",
      "1/1 [==============================] - 0s 10ms/step - loss: 24.8715 - accuracy: 0.0000e+00\n",
      "Epoch 38/100\n",
      "1/1 [==============================] - 0s 7ms/step - loss: 22.9928 - accuracy: 0.0000e+00\n",
      "Epoch 39/100\n",
      "1/1 [==============================] - 0s 3ms/step - loss: 20.9226 - accuracy: 0.0000e+00\n",
      "Epoch 40/100\n",
      "1/1 [==============================] - 0s 7ms/step - loss: 18.6558 - accuracy: 0.0000e+00\n",
      "Epoch 41/100\n",
      "1/1 [==============================] - 0s 2ms/step - loss: 16.1681 - accuracy: 0.0000e+00\n",
      "Epoch 42/100\n",
      "1/1 [==============================] - 0s 2ms/step - loss: 13.4804 - accuracy: 0.0000e+00\n",
      "Epoch 43/100\n",
      "1/1 [==============================] - 0s 5ms/step - loss: 10.5232 - accuracy: 0.0000e+00\n",
      "Epoch 44/100\n",
      "1/1 [==============================] - 0s 33ms/step - loss: 7.3692 - accuracy: 0.0000e+00\n",
      "Epoch 45/100\n",
      "1/1 [==============================] - 0s 5ms/step - loss: 3.9903 - accuracy: 0.0000e+00\n",
      "Epoch 46/100\n",
      "1/1 [==============================] - 0s 4ms/step - loss: 0.3942 - accuracy: 0.0000e+00\n",
      "Epoch 47/100\n",
      "1/1 [==============================] - 0s 3ms/step - loss: -3.4072 - accuracy: 0.0000e+00\n",
      "Epoch 48/100\n",
      "1/1 [==============================] - 0s 6ms/step - loss: -7.3978 - accuracy: 0.0000e+00\n",
      "Epoch 49/100\n",
      "1/1 [==============================] - 0s 11ms/step - loss: -11.5694 - accuracy: 0.0000e+00\n",
      "Epoch 50/100\n",
      "1/1 [==============================] - 0s 3ms/step - loss: -15.8591 - accuracy: 0.0000e+00\n",
      "Epoch 51/100\n",
      "1/1 [==============================] - 0s 2ms/step - loss: -20.3323 - accuracy: 0.0000e+00\n",
      "Epoch 52/100\n",
      "1/1 [==============================] - 0s 8ms/step - loss: -25.1068 - accuracy: 0.0000e+00\n",
      "Epoch 53/100\n",
      "1/1 [==============================] - 0s 3ms/step - loss: -30.3168 - accuracy: 0.0000e+00\n",
      "Epoch 54/100\n",
      "1/1 [==============================] - 0s 3ms/step - loss: -36.3771 - accuracy: 0.0000e+00\n",
      "Epoch 55/100\n",
      "1/1 [==============================] - 0s 5ms/step - loss: -44.0433 - accuracy: 0.0000e+00\n",
      "Epoch 56/100\n",
      "1/1 [==============================] - 0s 11ms/step - loss: -54.6605 - accuracy: 0.0000e+00\n",
      "Epoch 57/100\n",
      "1/1 [==============================] - 0s 7ms/step - loss: -70.4850 - accuracy: 0.0000e+00\n",
      "Epoch 58/100\n",
      "1/1 [==============================] - 0s 3ms/step - loss: -95.0805 - accuracy: 0.0000e+00\n",
      "Epoch 59/100\n",
      "1/1 [==============================] - 0s 3ms/step - loss: -134.2482 - accuracy: 0.0000e+00\n",
      "Epoch 60/100\n",
      "1/1 [==============================] - 0s 4ms/step - loss: -197.2919 - accuracy: 0.0000e+00\n",
      "Epoch 61/100\n",
      "1/1 [==============================] - 0s 4ms/step - loss: -298.9637 - accuracy: 0.0000e+00\n",
      "Epoch 62/100\n",
      "1/1 [==============================] - 0s 5ms/step - loss: -462.5417 - accuracy: 0.0000e+00\n",
      "Epoch 63/100\n",
      "1/1 [==============================] - 0s 13ms/step - loss: -722.3175 - accuracy: 0.0000e+00\n",
      "Epoch 64/100\n",
      "1/1 [==============================] - 0s 23ms/step - loss: -1128.5488 - accuracy: 0.0000e+00\n",
      "Epoch 65/100\n",
      "1/1 [==============================] - 0s 5ms/step - loss: -1752.0139 - accuracy: 0.0000e+00\n",
      "Epoch 66/100\n",
      "1/1 [==============================] - 0s 19ms/step - loss: -2702.6890 - accuracy: 0.0000e+00\n",
      "Epoch 67/100\n",
      "1/1 [==============================] - 0s 4ms/step - loss: -4138.8501 - accuracy: 0.0000e+00\n",
      "Epoch 68/100\n",
      "1/1 [==============================] - 0s 7ms/step - loss: -6293.5410 - accuracy: 0.0000e+00\n",
      "Epoch 69/100\n",
      "1/1 [==============================] - 0s 3ms/step - loss: -9509.8145 - accuracy: 0.0000e+00\n",
      "Epoch 70/100\n",
      "1/1 [==============================] - 0s 3ms/step - loss: -14291.7852 - accuracy: 0.0000e+00\n",
      "Epoch 71/100\n",
      "1/1 [==============================] - 0s 3ms/step - loss: -21378.7656 - accuracy: 0.0000e+00\n",
      "Epoch 72/100\n",
      "1/1 [==============================] - 0s 3ms/step - loss: -31852.9023 - accuracy: 0.0000e+00\n",
      "Epoch 73/100\n",
      "1/1 [==============================] - 0s 8ms/step - loss: -47295.4648 - accuracy: 0.0000e+00\n",
      "Epoch 74/100\n",
      "1/1 [==============================] - 0s 2ms/step - loss: -70013.4844 - accuracy: 0.0000e+00\n",
      "Epoch 75/100\n",
      "1/1 [==============================] - 0s 3ms/step - loss: -103368.1406 - accuracy: 0.0000e+00\n",
      "Epoch 76/100\n",
      "1/1 [==============================] - 0s 3ms/step - loss: -152250.3438 - accuracy: 0.0000e+00\n",
      "Epoch 77/100\n",
      "1/1 [==============================] - 0s 2ms/step - loss: -223768.7188 - accuracy: 0.0000e+00\n",
      "Epoch 78/100\n",
      "1/1 [==============================] - 0s 10ms/step - loss: -328244.4062 - accuracy: 0.0000e+00\n",
      "Epoch 79/100\n",
      "1/1 [==============================] - 0s 3ms/step - loss: -480647.8125 - accuracy: 0.0000e+00\n",
      "Epoch 80/100\n",
      "1/1 [==============================] - 0s 6ms/step - loss: -702674.5625 - accuracy: 0.0000e+00\n",
      "Epoch 81/100\n",
      "1/1 [==============================] - 0s 3ms/step - loss: -1025739.0000 - accuracy: 0.0000e+00\n",
      "Epoch 82/100\n",
      "1/1 [==============================] - 0s 8ms/step - loss: -1495294.3750 - accuracy: 0.0000e+00\n",
      "Epoch 83/100\n",
      "1/1 [==============================] - 0s 3ms/step - loss: -2177058.5000 - accuracy: 0.0000e+00\n",
      "Epoch 84/100\n",
      "1/1 [==============================] - 0s 2ms/step - loss: -3165984.2500 - accuracy: 0.0000e+00\n",
      "Epoch 85/100\n",
      "1/1 [==============================] - 0s 4ms/step - loss: -4599182.5000 - accuracy: 0.0000e+00\n",
      "Epoch 86/100\n",
      "1/1 [==============================] - 0s 3ms/step - loss: -6674520.0000 - accuracy: 0.0000e+00\n",
      "Epoch 87/100\n",
      "1/1 [==============================] - 0s 3ms/step - loss: -9677390.0000 - accuracy: 0.0000e+00\n",
      "Epoch 88/100\n",
      "1/1 [==============================] - 0s 3ms/step - loss: -14019216.0000 - accuracy: 0.0000e+00\n",
      "Epoch 89/100\n",
      "1/1 [==============================] - 0s 4ms/step - loss: -20292822.0000 - accuracy: 0.0000e+00\n",
      "Epoch 90/100\n",
      "1/1 [==============================] - 0s 2ms/step - loss: -29352028.0000 - accuracy: 0.0000e+00\n",
      "Epoch 91/100\n",
      "1/1 [==============================] - 0s 2ms/step - loss: -42426044.0000 - accuracy: 0.0000e+00\n",
      "Epoch 92/100\n",
      "1/1 [==============================] - 0s 4ms/step - loss: -61283784.0000 - accuracy: 0.0000e+00\n",
      "Epoch 93/100\n",
      "1/1 [==============================] - 0s 3ms/step - loss: -88469840.0000 - accuracy: 0.0000e+00\n",
      "Epoch 94/100\n",
      "1/1 [==============================] - 0s 5ms/step - loss: -127643472.0000 - accuracy: 0.0000e+00\n",
      "Epoch 95/100\n",
      "1/1 [==============================] - 0s 3ms/step - loss: -184064800.0000 - accuracy: 0.0000e+00\n",
      "Epoch 96/100\n",
      "1/1 [==============================] - 0s 9ms/step - loss: -265293088.0000 - accuracy: 0.0000e+00\n",
      "Epoch 97/100\n",
      "1/1 [==============================] - 0s 3ms/step - loss: -382188032.0000 - accuracy: 0.0000e+00\n",
      "Epoch 98/100\n",
      "1/1 [==============================] - 0s 4ms/step - loss: -550346368.0000 - accuracy: 0.0000e+00\n",
      "Epoch 99/100\n",
      "1/1 [==============================] - 0s 2ms/step - loss: -792161856.0000 - accuracy: 0.0000e+00\n",
      "Epoch 100/100\n",
      "1/1 [==============================] - 0s 3ms/step - loss: -1139779584.0000 - accuracy: 0.0000e+00\n"
     ]
    },
    {
     "data": {
      "text/plain": [
       "<AxesSubplot:xlabel='epochs'>"
      ]
     },
     "execution_count": 44,
     "metadata": {},
     "output_type": "execute_result"
    },
    {
     "data": {
      "image/png": "[encoded data removed]",
      "text/plain": [
       "<Figure size 720x504 with 1 Axes>"
      ]
     },
     "metadata": {
      "needs_background": "light"
     },
     "output_type": "display_data"
    }
   ],
   "source": [
    "tf.random.set_seed(42)\n",
    "\n",
    "model_3 = tf.keras.Sequential([\n",
    "  tf.keras.layers.Dense(4, activation=\"relu\"),\n",
    "  tf.keras.layers.Dense(4, activation=\"relu\"),\n",
    "  tf.keras.layers.Dense(1, activation=\"sigmoid\")\n",
    "])\n",
    "\n",
    "model_3.compile(loss=\"binary_crossentropy\", optimizer=\"Adam\", metrics=[\"accuracy\"]) \n",
    "\n",
    "lr_scheduler = tf.keras.callbacks.LearningRateScheduler(lambda epoch: 1e-4 * 10**(epoch/20))\n",
    "\n",
    "history = model_3.fit(X_train, y_train, epochs=100, callbacks=[lr_scheduler])\n",
    "\n",
    "pd.DataFrame(history.history).plot(figsize=(10,7), xlabel=\"epochs\")"
   ]
  },
  {
   "cell_type": "code",
   "execution_count": 45,
   "metadata": {},
   "outputs": [
    {
     "data": {
      "text/plain": [
       "Text(0.5, 1.0, 'Learning rate/Loss')"
      ]
     },
     "execution_count": 45,
     "metadata": {},
     "output_type": "execute_result"
    },
    {
     "data": {
      "image/png": "[encoded data removed]",
      "text/plain": [
       "<Figure size 720x504 with 1 Axes>"
      ]
     },
     "metadata": {
      "needs_background": "light"
     },
     "output_type": "display_data"
    }
   ],
   "source": [
    "lrs = 1e-4 * (10 ** (np.arange(100)/20))\n",
    "plt.figure(figsize=(10, 7))\n",
    "plt.semilogx(lrs, history.history[\"loss\"])\n",
    "plt.xlabel(\"Learning Rate\")\n",
    "plt.ylabel(\"Loss\")\n",
    "plt.title(\"Learning rate/Loss\")"
   ]
  },
  {
   "cell_type": "code",
   "execution_count": 48,
   "metadata": {},
   "outputs": [
    {
     "data": {
      "image/png": "[encoded data removed]",
      "text/plain": [
       "<Figure size 720x504 with 1 Axes>"
      ]
     },
     "metadata": {
      "needs_background": "light"
     },
     "output_type": "display_data"
    }
   ],
   "source": [
    "plt.figure(figsize=(10, 7))\n",
    "plt.scatter(X_train, y_train, c='r', label='Training data')\n",
    "plt.scatter(X_test, y_test, c='y', label='Testing data')\n",
    "plt.legend()\n",
    "y_preds = model.predict(X_test)"
   ]
  },
  {
   "cell_type": "code",
   "execution_count": 50,
   "metadata": {},
   "outputs": [],
   "source": [
    "def plot_predictions(train_data, train_labels, test_data, test_labels, predictions):\n",
    "  plt.figure(figsize=(10, 7))\n",
    "  plt.scatter(train_data, train_labels, c=\"b\", label=\"Training data\")\n",
    "  plt.scatter(test_data, test_labels, c=\"g\", label=\"Testing data\")\n",
    "  plt.scatter(test_data, predictions, c=\"r\", label=\"Predictions\")\n",
    "  plt.legend()"
   ]
  },
  {
   "cell_type": "code",
   "execution_count": 51,
   "metadata": {},
   "outputs": [
    {
     "data": {
      "image/png": "[encoded data removed]",
      "text/plain": [
       "<Figure size 720x504 with 1 Axes>"
      ]
     },
     "metadata": {
      "needs_background": "light"
     },
     "output_type": "display_data"
    }
   ],
   "source": [
    "plot_predictions(X_train, y_train, X_test, y_test, y_preds)"
   ]
  }
 ],
 "metadata": {
  "interpreter": {
   "hash": "6d23dc9fb1536bab160869117775d27c3762152735adc7865e12ca8aac17ccc9"
  },
  "kernelspec": {
   "display_name": "Python 3.8.8 64-bit ('base': conda)",
   "name": "python3"
  },
  "language_info": {
   "codemirror_mode": {
    "name": "ipython",
    "version": 3
   },
   "file_extension": ".py",
   "mimetype": "text/x-python",
   "name": "python",
   "nbconvert_exporter": "python",
   "pygments_lexer": "ipython3",
   "version": "3.8.8"
  },
  "orig_nbformat": 4
 },
 "nbformat": 4,
 "nbformat_minor": 2
}
